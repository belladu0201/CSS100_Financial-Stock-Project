{
 "cells": [
  {
   "cell_type": "code",
   "execution_count": 1,
   "metadata": {
    "scrolled": true
   },
   "outputs": [],
   "source": [
    "#pip install regressors"
   ]
  },
  {
   "cell_type": "code",
   "execution_count": 2,
   "metadata": {},
   "outputs": [],
   "source": [
    "import pandas_datareader as wb\n",
    "from pandas_datareader import data\n",
    "import yfinance as yf\n",
    "import requests \n",
    "import pandas as pd\n",
    "import numpy as np\n",
    "import math\n",
    "from lxml import html\n",
    "import datetime\n",
    "from datetime import datetime\n",
    "import statsmodels.api as sm\n",
    "from scipy.stats import norm\n",
    "from tqdm.notebook import tqdm"
   ]
  },
  {
   "cell_type": "code",
   "execution_count": 3,
   "metadata": {},
   "outputs": [],
   "source": [
    "import matplotlib.pyplot as plt\n",
    "import seaborn as sns"
   ]
  },
  {
   "cell_type": "code",
   "execution_count": 4,
   "metadata": {},
   "outputs": [],
   "source": [
    "from sklearn import linear_model\n",
    "from sklearn.ensemble import RandomForestClassifier, VotingClassifier\n",
    "from sklearn.linear_model import SGDClassifier, LogisticRegression \n",
    "from sklearn.metrics import confusion_matrix, precision_score, recall_score, f1_score, r2_score\n",
    "from scipy import stats\n",
    "from sklearn.preprocessing import PolynomialFeatures\n",
    "from sklearn.svm import SVC\n",
    "from sklearn.ensemble import BaggingClassifier"
   ]
  },
  {
   "cell_type": "code",
   "execution_count": 5,
   "metadata": {},
   "outputs": [],
   "source": [
    "#function for calculating log return\n",
    "def return_df(close_price_df):\n",
    "        \n",
    "    return_df = close_price_df.pct_change().apply(lambda x: np.log(1+x))\n",
    "    \n",
    "    return return_df\n",
    "\n",
    "#function for classifing beaters and losers\n",
    "def dummies_beater(all_returns,Rf, option = \"return\"):\n",
    "    \n",
    "    all_returns = all_returns.dropna(how=\"all\")\n",
    "    Rm = all_returns[\"SPY\"]\n",
    "    Rm = Rm.fillna(0)\n",
    "    comps_R = all_returns.drop(columns = [\"SPY\"])\n",
    "    comps_R = comps_R.fillna(0)\n",
    "    \n",
    "    if option == \"return\":\n",
    "        comps_R_excess = comps_R.subtract(Rm.values, axis=0)\n",
    "        dummies_Return_beaters = comps_R_excess.copy()\n",
    "        dummies_Return_beaters[dummies_Return_beaters >= 0] =1\n",
    "        dummies_Return_beaters[dummies_Return_beaters < 0] =0\n",
    "        \n",
    "    elif option == \"sharpe\":\n",
    "        market_volatility = Rm.std()\n",
    "        comps_volatility = comps_R.std()\n",
    "        comps_sharpe = (comps_R - Rf)/comps_volatility\n",
    "        market_sharpe = (Rm - Rf)/market_volatility\n",
    "        sharpe_excess = comps_sharpe.subtract(market_sharpe, axis=0)\n",
    "        dummies_Return_beaters = sharpe_excess.copy()\n",
    "        dummies_Return_beaters[dummies_Return_beaters >= 0] =1\n",
    "        dummies_Return_beaters[dummies_Return_beaters < 0] =0\n",
    "        \n",
    "    return dummies_Return_beaters"
   ]
  },
  {
   "cell_type": "code",
   "execution_count": 26,
   "metadata": {},
   "outputs": [],
   "source": [
    "def FF_assign_label(index_comp_info):    \n",
    "#Assign Label indicating the companies' charactaristics, Big cap, High value...\n",
    "\n",
    "    #Companies have market cap above median are classified as big cap, otherwise small cap    \n",
    "    index_comp_info[\"bookToMarket\"] = 1/index_comp_info[\"PB_ratio\"]\n",
    "    index_comp_info[\"Small_Big_Cap\"] = index_comp_info[\"mkt_cap\"].map(lambda x: \"B\" if x >= index_comp_info[\"mkt_cap\"].median() else \"S\")\n",
    "    \n",
    "    #Companies have BP ratio above 0.75 percentile are classified as high value(High), under 0.25 percentile as low value(Low)\n",
    "    lower, upper = index_comp_info[\"bookToMarket\"].quantile([0.3, 0.7])\n",
    "    index_comp_info[\"HML_BP\"] = index_comp_info[\"bookToMarket\"].map(lambda x: \"H\" if x >= upper else \"M\")\n",
    "    index_comp_info[\"HML_BP\"] = index_comp_info.apply(lambda row: \"L\" if row[\"bookToMarket\"] <= lower else row[\"HML_BP\"], axis = 1)\n",
    "    \n",
    "    #Companies have ROE above 0.75 percentile are classified as high profit(Robust), under 0.25 percentile as low profit(Weak)\n",
    "    lower_roe, upper_roe = index_comp_info[\"ROE\"].quantile([0.3, 0.7])\n",
    "    index_comp_info[\"RNW_ROE\"] = index_comp_info[\"ROE\"].map(lambda x: \"R\" if x >= upper_roe else \"N\")\n",
    "    index_comp_info[\"RNW_ROE\"] = index_comp_info.apply(lambda row: \"W\" if row[\"ROE\"] <= lower_roe else row[\"RNW_ROE\"], axis = 1)\n",
    "    \n",
    "    #Companies have asset growth above 0.75 percentile are classified as high investment(Aggresive), under 0.25 percentile as low investment(Conservative)\n",
    "    lower_invest, upper_invest = index_comp_info[\"Asset_growth\"].quantile([0.3, 0.7])\n",
    "    index_comp_info[\"ANC_investment\"] = index_comp_info[\"Asset_growth\"].map(lambda x: \"A\" if x >= upper_invest else \"N\")\n",
    "    index_comp_info[\"ANC_investment\"] = index_comp_info.apply(lambda row: \"C\" if row[\"Asset_growth\"] <= lower_invest else row[\"ANC_investment\"], axis = 1)\n",
    "            \n",
    "    return index_comp_info\n",
    "\n",
    "def FF_factor_classifier(index_comp_info_with_label):\n",
    "#Classifing companies to 18 groups for later return calculation\n",
    "\n",
    "    data = index_comp_info_with_label\n",
    "    \n",
    "    #grouping data\n",
    "    Small_Low = data.query('(Small_Big_Cap==\"S\") & (HML_BP==\"L\")')\n",
    "    Small_Mid = data.query('(Small_Big_Cap==\"S\") & (HML_BP==\"M\")')\n",
    "    Small_High = data.query('(Small_Big_Cap==\"S\") & (HML_BP==\"H\")')\n",
    "    \n",
    "    Small_Weak = data.query('(Small_Big_Cap==\"S\") & (RNW_ROE==\"W\")')\n",
    "    Small_Neutral_Profit = data.query('(Small_Big_Cap==\"S\") & (RNW_ROE==\"N\")')\n",
    "    Small_Robust = data.query('(Small_Big_Cap==\"S\") & (RNW_ROE==\"R\")')\n",
    "    \n",
    "    Small_Conservative =  data.query('(Small_Big_Cap==\"S\") & (ANC_investment==\"C\")')\n",
    "    Small_Neutral_Invest =  data.query('(Small_Big_Cap==\"S\") & (ANC_investment==\"N\")')\n",
    "    Small_Aggresive =  data.query('(Small_Big_Cap==\"S\") & (ANC_investment==\"A\")')\n",
    "    \n",
    "    Big_Low = data.query('(Small_Big_Cap==\"B\") & (HML_BP==\"L\")')\n",
    "    Big_Mid = data.query('(Small_Big_Cap==\"B\") & (HML_BP==\"M\")')\n",
    "    Big_High = data.query('(Small_Big_Cap==\"B\") & (HML_BP==\"H\")')\n",
    "    \n",
    "    Big_Weak = data.query('(Small_Big_Cap==\"B\") & (RNW_ROE==\"W\")')\n",
    "    Big_Neutral_Profit = data.query('(Small_Big_Cap==\"B\") & (RNW_ROE==\"N\")')\n",
    "    Big_Robust = data.query('(Small_Big_Cap==\"B\") & (RNW_ROE==\"R\")')\n",
    "\n",
    "    Big_Conservative =  data.query('(Small_Big_Cap==\"B\") & (ANC_investment==\"C\")')\n",
    "    Big_Neutral_Invest = data.query('(Small_Big_Cap==\"B\") & (ANC_investment==\"N\")')\n",
    "    Big_Aggresive =  data.query('(Small_Big_Cap==\"B\") & (ANC_investment==\"A\")')\n",
    "    \n",
    "    #store grouped data to a list\n",
    "    each_groups_list = [Small_Low, Small_Mid, Small_High, \n",
    "                            Small_Weak, Small_Neutral_Profit, Small_Robust,\n",
    "                            Small_Conservative, Small_Neutral_Invest, Small_Aggresive,\n",
    "                            Big_Low, Big_Mid,Big_High,\n",
    "                            Big_Weak, Big_Neutral_Profit, Big_Robust,\n",
    "                            Big_Conservative, Big_Neutral_Invest, Big_Aggresive]\n",
    "        \n",
    "    return each_groups_list\n",
    "\n",
    "def FF_classes_return(market_components_return, list_of_group_info, axis=True):\n",
    "# Calculate value-weighted return of each group above       \n",
    "    \n",
    "    groups_names = [\"Small_Low\", \"Small_Mid\", \"Small_High\",\n",
    "                        \"Small_Weak\", \"Small_Neutral_Profit\", \"Small_Robust\",\n",
    "                        \"Small_Cons\", \"Small_Neutral_Invest\", \"Small_Aggr\",\n",
    "                        \"Big_Low\", \"Big_Mid\",\"Big_High\",\n",
    "                        \"Big_Weak\", \"Big_Neutral_Profit\", \"Big_Robust\",\n",
    "                        \"Big_Cons\", \"Big_Neutral_Invest\", \"Big_Aggr\"]\n",
    "    \n",
    "    df_groups = pd.DataFrame(columns = groups_names)\n",
    "    \n",
    "    counter = 0\n",
    "    \n",
    "    for group in list_of_group_info:\n",
    "        \n",
    "        #calculating value-weighted return for each group above\n",
    "        group_cap = group[\"mkt_cap\"].T\n",
    "        group_total_cap = group[\"mkt_cap\"].sum()\n",
    "        group_cap_multi_return = group_cap*market_components_return[list(group.index)]\n",
    "        \n",
    "        if axis == True:\n",
    "            df_groups[groups_names[counter]] = group_cap_multi_return.apply(lambda row: row.sum()/group_total_cap, axis=1)\n",
    "        \n",
    "        else:\n",
    "            groups_index_return = group_cap_multi_return.sum()/group_total_cap\n",
    "            df_groups[groups_names[counter]] = [groups_index_return]\n",
    "    \n",
    "        counter += 1\n",
    "                \n",
    "    return df_groups\n",
    "\n",
    "def FF_calc_factors(classes_return_df, df = True):\n",
    "#Calculate 5 factors (5 Return Spreads)\n",
    "\n",
    "    factor_name = [\"SMB\", \"HML\", \"RMW\", \"CMA\"]\n",
    "    \n",
    "    SMB_BP = (classes_return_df[\"Small_Low\"] + classes_return_df[\"Small_Mid\"] \n",
    "                      + classes_return_df[\"Small_High\"]) - (classes_return_df[\"Big_Low\"]\n",
    "                      + classes_return_df[\"Big_Mid\"] + classes_return_df[\"Big_High\"])/3\n",
    "    \n",
    "    SMB_PFT = (classes_return_df[\"Small_Weak\"] + classes_return_df[\"Small_Neutral_Profit\"] \n",
    "                      + classes_return_df[\"Small_Robust\"]) - (classes_return_df[\"Big_Weak\"]\n",
    "                      + classes_return_df[\"Big_Neutral_Profit\"] + classes_return_df[\"Big_Robust\"])/3\n",
    "    \n",
    "    SMB_INV = (classes_return_df[\"Small_Cons\"] + classes_return_df[\"Small_Neutral_Invest\"] \n",
    "                      + classes_return_df[\"Small_Aggr\"]) - (classes_return_df[\"Big_Cons\"]\n",
    "                      + classes_return_df[\"Big_Neutral_Invest\"] + classes_return_df[\"Big_Aggr\"])/3\n",
    "    \n",
    "    if df == True:\n",
    "        \n",
    "        FF_factors_data = pd.DataFrame(columns = factor_name)\n",
    "        \n",
    "    #Pure algebra\n",
    "    \n",
    "    FF_factors_data[\"SMB\"] = (SMB_BP + SMB_PFT + SMB_INV)/3\n",
    "    \n",
    "    FF_factors_data[\"HML\"] = (classes_return_df[\"Small_High\"] + classes_return_df[\"Big_High\"]\n",
    "                      - (classes_return_df[\"Small_Low\"] + classes_return_df[\"Big_Low\"])) / 2\n",
    "    \n",
    "    FF_factors_data[\"RMW\"] = (classes_return_df[\"Small_Robust\"] + classes_return_df[\"Big_Robust\"]\n",
    "                      - (classes_return_df[\"Small_Weak\"] + classes_return_df[\"Big_Weak\"])) / 2\n",
    "    \n",
    "    FF_factors_data[\"CMA\"] = (classes_return_df[\"Small_Cons\"] + classes_return_df[\"Big_Cons\"]\n",
    "                      - (classes_return_df[\"Small_Aggr\"] + classes_return_df[\"Big_Aggr\"])) / 2\n",
    "        \n",
    "    return FF_factors_data\n",
    "\n",
    "def FF_regress(FF_factors_df, target_comp_risk_premium, modelType = 'linear', transform = False):\n",
    "#Function to estimate factor exposure for given stock return series\n",
    "\n",
    "    #dependent variable is a given return premium(R-Rf) series\n",
    "    y = target_comp_risk_premium\n",
    "    \n",
    "    #Transform the features to interaction polynomial form \n",
    "    poly = PolynomialFeatures(degree=2, interaction_only=True, include_bias=False)\n",
    "    poly_X = poly.fit_transform(FF_factors_df)\n",
    "    poly_FF = pd.DataFrame(data = poly_X, index=FF_factors_df.index)\n",
    "    \n",
    "    #If chose lasso, always use polynomial features. We have only 5 features in normal form, likely to underfit if use lasso.\n",
    "    if modelType == 'lasso':\n",
    "        \n",
    "        X = poly_FF\n",
    "        \n",
    "        model = linear_model.Lasso(alpha = 0.00000001)\n",
    "        model.fit(X.astype(float), y.astype(float))\n",
    "        params = np.append(model.intercept_,model.coef_)\n",
    "        predictions = model.predict(X)\n",
    "        \n",
    "    #Linear model has both options  \n",
    "    elif modelType == 'linear':\n",
    "        \n",
    "        if transform == True:\n",
    "            X = poly_FF\n",
    "        \n",
    "        elif transform == False:\n",
    "            X = FF_factors_df\n",
    "            \n",
    "        model = linear_model.LinearRegression()\n",
    "        model.fit(X.astype(float), y.astype(float))\n",
    "        params = np.append(model.intercept_,model.coef_)\n",
    "        predictions = model.predict(X)\n",
    "        \n",
    "    #Ridge model with cross validation has both options    \n",
    "    elif modelType == 'ridge':\n",
    "    \n",
    "        if transform == True:\n",
    "            X = poly_FF\n",
    "            set_alphas=[0.000001,0.0000001]\n",
    "            \n",
    "        elif transform == False:\n",
    "            X = FF_factors_df\n",
    "            set_alphas = [0.00000001,0.0000001]\n",
    "            \n",
    "        model = linear_model.RidgeCV(alphas = set_alphas, cv=5)\n",
    "        model.fit(X.astype(float), y.astype(float))\n",
    "        params = np.append(model.intercept_,model.coef_)\n",
    "        predictions = model.predict(X)\n",
    "        \n",
    "    #Elastic Net model with cross validation has both options    \n",
    "    elif modelType == 'elastic':\n",
    "        \n",
    "        if transform == True:\n",
    "            X = poly_FF\n",
    "            set_alphas = [0.000001,0.0000001]\n",
    "        \n",
    "        elif transform == False:\n",
    "            X = FF_factors_df\n",
    "            set_alphas = [0.00000001,0.0000001]\n",
    "            \n",
    "        model = linear_model.ElasticNetCV(alphas = set_alphas, cv=5, random_state=0)\n",
    "        model.fit(X.astype(float), y.astype(float))\n",
    "        params = np.append(model.intercept_,model.coef_)\n",
    "        predictions = model.predict(X)\n",
    "    \n",
    "    #calculating MSE, coefficoent, p-value, and R^2\n",
    "    newX = pd.DataFrame({\"Constant\":np.ones(len(X))}).join(pd.DataFrame(X.reset_index(drop=True)))\n",
    "    MSE = (sum((y-predictions)**2))/(len(newX)-len(newX.columns))\n",
    "\n",
    "    var_b = MSE*(np.linalg.inv(np.dot(newX.T,newX)).diagonal())\n",
    "    sd_b = np.sqrt(var_b)\n",
    "    ts_b = params/ sd_b\n",
    "    \n",
    "    p_values =[2*(1-stats.t.cdf(np.abs(i),(len(newX)-len(X.columns)))) for i in ts_b]\n",
    "\n",
    "    sd_b = np.round(sd_b,3)\n",
    "    ts_b = np.round(ts_b,3)\n",
    "    p_values = np.round(p_values,3)\n",
    "    params = np.round(params,4)\n",
    "\n",
    "    myDF3 = pd.DataFrame()\n",
    "    myDF3[\"Coefficients\"],myDF3[\"Standard_Errors\"],myDF3[\"t_stat\"],myDF3[\"P_value\"] = [params,sd_b,ts_b,p_values]\n",
    "    R2 = r2_score(y,predictions)\n",
    "    \n",
    "    #returning a dataframe contains coefficients, significance level, and % of variation explained\n",
    "    return myDF3 , R2\n",
    "\n",
    "def regressAll(FF_factors, all_returns, days, train_base, Rf=0.000001, modelType = 'linear', transform=False):\n",
    "#functions to regress all inputing comapnies and store R^2, BETAS, P-VAL using above function, AND the target variable (outcome at T+1)    \n",
    "    \n",
    "    #Converting return df to dummy variable df indicating wheather a comapny is a beater at given time\n",
    "    dummies_Return_beaters = dummies_beater(all_returns, Rf)\n",
    "    \n",
    "    #calculating the probability of beating the market from last 10,20, and 30 observations\n",
    "    prob_10obs = dummies_Return_beaters.iloc[days - 10 : days].mean().T\n",
    "    prob_20obs = dummies_Return_beaters.iloc[days - 20 : days].mean().T\n",
    "    prob_30obs = dummies_Return_beaters.iloc[days - 30 : days].mean().T\n",
    "    \n",
    "    #set the target variables as the T+1 status(winner or loser)\n",
    "    target = dummies_Return_beaters.iloc[days+1]\n",
    "    \n",
    "    #Lasso always has transformed features\n",
    "    if modelType == \"lasso\":\n",
    "        transform = True\n",
    "    \n",
    "    #optional poly features for the rest of models\n",
    "    if transform == True:\n",
    "        features_df = pd.DataFrame(columns = [\"const\",'B1', 'B2', 'B3', 'B4', 'B5'\n",
    "                                              ,'B6', 'B7', 'B8', 'B9', 'B10',\"B11\"\n",
    "                                              ,\"B12\",\"B13\",\"B14\",\"B15\"\n",
    "                                              ,\"Pval_C\", \"Pval1\", \"Pval2\", \"Pval3\", \"Pval4\", \"Pval5\"\n",
    "                                              ,\"Pval6\", \"Pval7\", \"Pval8\", \"Pval9\", \"Pval10\", \"Pval11\"\n",
    "                                              ,\"Pval12\",\"Pval13\", \"Pval14\",\"Pval15\"\n",
    "                                              , 'R2'],\n",
    "                               index = all_returns.columns)\n",
    "        \n",
    "    else:    \n",
    "        features_df = pd.DataFrame(columns = [\"const\",'B1', 'B2', 'B3', 'B4', 'B5',\"Pval_C\", \"Pval1\", \"Pval2\", \"Pval3\", \"Pval4\", \"Pval5\", 'R2'],\n",
    "                               index = all_returns.columns)\n",
    "    \n",
    "    #Dropping the SPY from dataframe because that is market performence, and we are not interested in its exposures\n",
    "    comps_R = all_returns.drop(columns = [\"SPY\"]).fillna(0)\n",
    "    \n",
    "    #Fill NaN for FF factors because it indicated 2 min return spread is too small to capture\n",
    "    FF_factors = FF_factors.fillna(0)\n",
    "    \n",
    "    #Looping over all companies in SP500 index to measure their coefficients and othe features that will be used for prediction\n",
    "    for i in comps_R:\n",
    "\n",
    "        regression_stat, R2 = FF_regress(FF_factors.iloc[days-train_base:days], comps_R[i].iloc[days-train_base:days], modelType, transform)\n",
    "        betas = list(regression_stat[\"Coefficients\"])\n",
    "        Pvals = list(regression_stat[\"P_value\"])\n",
    "        features = betas + Pvals\n",
    "        features.append(R2)\n",
    "        features_df.loc[i] = features\n",
    "    \n",
    "    #Construct a complete dataframe containing target variable\n",
    "    features_df[\"prob_10obs\"], features_df[\"prob_20obs\"], features_df[\"prob_30obs\"] = [prob_10obs, prob_20obs, prob_30obs]\n",
    "    features_df[\"true_target\"] = target\n",
    "\n",
    "    return features_df\n",
    "    \n",
    "def performence_df(FF_2m_factor,total_2m_return, Rf, modelType = \"linear\", transform = False):\n",
    "#Fuction to collect performence data from pre-set testing trials\n",
    "\n",
    "    performence = pd.DataFrame(columns=[\"precision\", \"recall\", \"f1\"])\n",
    "    \n",
    "    #we use past 150 observation to estimate factor exposure\n",
    "    days = 150\n",
    "    \n",
    "    #Using while loop to control the number of testing trials. Setting the testing trial to 2 (the difference between train base and final \"days\") for testing the code is working \n",
    "    while days < 152:\n",
    "        \n",
    "        data = regressAll(FF_2m_factor,total_2m_return,days,train_base = 150, Rf = Rf, modelType = modelType, transform = transform)\n",
    "        data = data.fillna(0)\n",
    "        \n",
    "        #Split the training set and testing set\n",
    "        split = int(len(data)*0.6)\n",
    "        \n",
    "        #No need to randomize index because the data is sorted by the first letter of the company, so the indexing doesn't cause bias\n",
    "        training_set = data.iloc[:split]\n",
    "        testing_set = data.iloc[split:]\n",
    "        \n",
    "        Xtrain, ytrain = training_set.drop(columns=[\"true_target\"]), training_set[\"true_target\"] #seperate from target\n",
    "        Xtest = testing_set.drop(columns=[\"true_target\"]) #Isolate the True Outcome\n",
    "        \n",
    "        #constructing 4 classifiers\n",
    "        sgd_clf = SGDClassifier(random_state = 42,loss = 'modified_huber')\n",
    "        model1 = sgd_clf.fit(training_set.drop(columns=[\"true_target\"]),training_set[\"true_target\"])\n",
    "        log_clf = LogisticRegression(solver=\"lbfgs\", random_state=42)\n",
    "        rnd_clf = RandomForestClassifier(n_estimators=10, random_state=42)\n",
    "        svm_clf = SVC(gamma=\"scale\", random_state=42, probability=True)\n",
    "        \n",
    "        #Fitting 4 models on training set\n",
    "        model1 = sgd_clf.fit(Xtrain, ytrain)\n",
    "        model2 = log_clf.fit(Xtrain, ytrain)\n",
    "        model3 = rnd_clf.fit(Xtrain, ytrain)\n",
    "        model4 = svm_clf.fit(Xtrain, ytrain)\n",
    "        \n",
    "        #Implemeting Bagging to reduce bias for all 4 classifiers\n",
    "        bag_clf1 = BaggingClassifier(SGDClassifier(), n_estimators=500, max_samples=100, bootstrap=True, n_jobs=-1)\n",
    "        model5 = bag_clf1.fit(training_set.drop(columns=[\"true_target\"]),training_set[\"true_target\"])\n",
    "        y_pred1 = bag_clf1.predict(testing_set.drop(columns=[\"true_target\"]))\n",
    "        \n",
    "        bag_clf2 = BaggingClassifier(LogisticRegression(), n_estimators=500, max_samples=100, bootstrap=True, n_jobs=-1)\n",
    "        model6 = bag_clf2.fit(training_set.drop(columns=[\"true_target\"]),training_set[\"true_target\"])\n",
    "        y_pred2 = bag_clf1.predict(testing_set.drop(columns=[\"true_target\"]))\n",
    "        \n",
    "        bag_clf3 = BaggingClassifier(RandomForestClassifier(), n_estimators=500, max_samples=100, bootstrap=True, n_jobs=-1)\n",
    "        model7 = bag_clf3.fit(training_set.drop(columns=[\"true_target\"]),training_set[\"true_target\"])\n",
    "        y_pred3 = bag_clf3.predict(testing_set.drop(columns=[\"true_target\"]))\n",
    "        \n",
    "        bag_clf4 = BaggingClassifier(SVC(), n_estimators=500, max_samples=100, bootstrap=True, n_jobs=-1)\n",
    "        model8 = bag_clf4.fit(training_set.drop(columns=[\"true_target\"]),training_set[\"true_target\"])\n",
    "        y_pred4 = bag_clf4.predict(testing_set.drop(columns=[\"true_target\"]))\n",
    "        \n",
    "        #Vote one time for classifiers w/o bagging\n",
    "        voting_clf1 = VotingClassifier(\n",
    "        estimators=[('sgd',sgd_clf),('lr', log_clf), ('rf', rnd_clf), ('svc', svm_clf)],\n",
    "        voting='soft')\n",
    "        final_model1 = voting_clf1.fit(Xtrain, ytrain)\n",
    "        \n",
    "        #Vote second time for classifiers w/ bagging\n",
    "        voting_clf2 = VotingClassifier(\n",
    "        estimators=[('bag1', model5),('bag2', model6), ('bag3', model7), ('bag4', model8)],\n",
    "        voting='soft')\n",
    "        final_model2 = voting_clf2.fit(Xtrain, ytrain)\n",
    "        \n",
    "        #Final vote for selecting classifiers\n",
    "        voting_clf_final = VotingClassifier(\n",
    "        estimators=[('first', final_model1),('second', final_model1)],\n",
    "        voting='soft')\n",
    "        real_final_model = voting_clf_final.fit(Xtrain, ytrain)\n",
    "        \n",
    "        #making prediction based on features\n",
    "        prediction = real_final_model.predict(Xtest)\n",
    "        testing_set = testing_set.copy()\n",
    "        \n",
    "        #combining prediction with testing set\n",
    "        testing_set[\"prediction\"] = prediction\n",
    "        \n",
    "        #defining true value and predicted value to calculate accuracy score later\n",
    "        true_target_value = testing_set[\"true_target\"]\n",
    "        predicted_value = testing_set[\"prediction\"]\n",
    "        \n",
    "        #caculate three score, but we most care about precision\n",
    "        precision = precision_score(true_target_value, predicted_value)\n",
    "        recall = recall_score(true_target_value, predicted_value)\n",
    "        f1 = f1_score(true_target_value, predicted_value)\n",
    "        \n",
    "        #creating performence dataframe\n",
    "        score_series = pd.Series([precision, recall, f1], index = performence.columns)\n",
    "        performence = performence.append(score_series, ignore_index=True)\n",
    "    \n",
    "        days += 1\n",
    "    \n",
    "    return performence\n",
    "\n",
    "    "
   ]
  },
  {
   "cell_type": "markdown",
   "metadata": {},
   "source": [
    "# Loading Data"
   ]
  },
  {
   "cell_type": "markdown",
   "metadata": {},
   "source": [
    "This involves pre-loading the datasets provided in the github. First dataset loaded is the Fama-Factor observatios for each company."
   ]
  },
  {
   "cell_type": "code",
   "execution_count": 7,
   "metadata": {},
   "outputs": [],
   "source": [
    "FF_info = pd.read_csv(\"Fama_French_info.csv\", index_col = 0)"
   ]
  },
  {
   "cell_type": "markdown",
   "metadata": {},
   "source": [
    "This dataset is is the 2 minute close price data which will be used to find return information."
   ]
  },
  {
   "cell_type": "code",
   "execution_count": 8,
   "metadata": {},
   "outputs": [],
   "source": [
    "sp_2m_close = pd.read_csv(\"SPYn500_2m_close.csv\", index_col = 0)"
   ]
  },
  {
   "cell_type": "markdown",
   "metadata": {},
   "source": [
    "Verify data has loaded correctly."
   ]
  },
  {
   "cell_type": "code",
   "execution_count": 9,
   "metadata": {},
   "outputs": [
    {
     "data": {
      "text/html": [
       "<div>\n",
       "<style scoped>\n",
       "    .dataframe tbody tr th:only-of-type {\n",
       "        vertical-align: middle;\n",
       "    }\n",
       "\n",
       "    .dataframe tbody tr th {\n",
       "        vertical-align: top;\n",
       "    }\n",
       "\n",
       "    .dataframe thead th {\n",
       "        text-align: right;\n",
       "    }\n",
       "</style>\n",
       "<table border=\"1\" class=\"dataframe\">\n",
       "  <thead>\n",
       "    <tr style=\"text-align: right;\">\n",
       "      <th></th>\n",
       "      <th>A</th>\n",
       "      <th>AAL</th>\n",
       "      <th>AAP</th>\n",
       "      <th>AAPL</th>\n",
       "      <th>ABBV</th>\n",
       "      <th>ABC</th>\n",
       "      <th>ABMD</th>\n",
       "      <th>ABT</th>\n",
       "      <th>ACN</th>\n",
       "      <th>ADBE</th>\n",
       "      <th>...</th>\n",
       "      <th>XEL</th>\n",
       "      <th>XLNX</th>\n",
       "      <th>XOM</th>\n",
       "      <th>XRAY</th>\n",
       "      <th>XYL</th>\n",
       "      <th>YUM</th>\n",
       "      <th>ZBH</th>\n",
       "      <th>ZBRA</th>\n",
       "      <th>ZION</th>\n",
       "      <th>ZTS</th>\n",
       "    </tr>\n",
       "    <tr>\n",
       "      <th>Datetime</th>\n",
       "      <th></th>\n",
       "      <th></th>\n",
       "      <th></th>\n",
       "      <th></th>\n",
       "      <th></th>\n",
       "      <th></th>\n",
       "      <th></th>\n",
       "      <th></th>\n",
       "      <th></th>\n",
       "      <th></th>\n",
       "      <th></th>\n",
       "      <th></th>\n",
       "      <th></th>\n",
       "      <th></th>\n",
       "      <th></th>\n",
       "      <th></th>\n",
       "      <th></th>\n",
       "      <th></th>\n",
       "      <th></th>\n",
       "      <th></th>\n",
       "      <th></th>\n",
       "    </tr>\n",
       "  </thead>\n",
       "  <tbody>\n",
       "    <tr>\n",
       "      <th>2021-10-11 09:30:00-04:00</th>\n",
       "      <td>150.729996</td>\n",
       "      <td>20.120001</td>\n",
       "      <td>214.000000</td>\n",
       "      <td>141.949997</td>\n",
       "      <td>111.199997</td>\n",
       "      <td>120.519997</td>\n",
       "      <td>333.580200</td>\n",
       "      <td>118.260002</td>\n",
       "      <td>324.829987</td>\n",
       "      <td>571.551025</td>\n",
       "      <td>...</td>\n",
       "      <td>61.740002</td>\n",
       "      <td>154.020004</td>\n",
       "      <td>62.622299</td>\n",
       "      <td>58.139999</td>\n",
       "      <td>121.169998</td>\n",
       "      <td>123.730003</td>\n",
       "      <td>146.309998</td>\n",
       "      <td>492.0</td>\n",
       "      <td>64.209999</td>\n",
       "      <td>196.289993</td>\n",
       "    </tr>\n",
       "    <tr>\n",
       "      <th>2021-10-11 09:32:00-04:00</th>\n",
       "      <td>150.690002</td>\n",
       "      <td>20.020000</td>\n",
       "      <td>213.889999</td>\n",
       "      <td>142.850006</td>\n",
       "      <td>111.160004</td>\n",
       "      <td>121.260002</td>\n",
       "      <td>333.104889</td>\n",
       "      <td>118.154999</td>\n",
       "      <td>325.119995</td>\n",
       "      <td>574.900024</td>\n",
       "      <td>...</td>\n",
       "      <td>62.064999</td>\n",
       "      <td>155.339996</td>\n",
       "      <td>62.560001</td>\n",
       "      <td>58.119999</td>\n",
       "      <td>121.239998</td>\n",
       "      <td>123.787201</td>\n",
       "      <td>146.315002</td>\n",
       "      <td>NaN</td>\n",
       "      <td>63.900002</td>\n",
       "      <td>196.509995</td>\n",
       "    </tr>\n",
       "    <tr>\n",
       "      <th>2021-10-11 09:34:00-04:00</th>\n",
       "      <td>151.330002</td>\n",
       "      <td>19.870001</td>\n",
       "      <td>214.000000</td>\n",
       "      <td>142.889999</td>\n",
       "      <td>111.129997</td>\n",
       "      <td>121.184998</td>\n",
       "      <td>335.989990</td>\n",
       "      <td>118.599998</td>\n",
       "      <td>324.910004</td>\n",
       "      <td>575.900024</td>\n",
       "      <td>...</td>\n",
       "      <td>62.360001</td>\n",
       "      <td>155.895004</td>\n",
       "      <td>62.556599</td>\n",
       "      <td>58.000000</td>\n",
       "      <td>120.980003</td>\n",
       "      <td>123.180000</td>\n",
       "      <td>NaN</td>\n",
       "      <td>NaN</td>\n",
       "      <td>63.650002</td>\n",
       "      <td>196.820007</td>\n",
       "    </tr>\n",
       "  </tbody>\n",
       "</table>\n",
       "<p>3 rows × 506 columns</p>\n",
       "</div>"
      ],
      "text/plain": [
       "                                    A        AAL         AAP        AAPL  \\\n",
       "Datetime                                                                   \n",
       "2021-10-11 09:30:00-04:00  150.729996  20.120001  214.000000  141.949997   \n",
       "2021-10-11 09:32:00-04:00  150.690002  20.020000  213.889999  142.850006   \n",
       "2021-10-11 09:34:00-04:00  151.330002  19.870001  214.000000  142.889999   \n",
       "\n",
       "                                 ABBV         ABC        ABMD         ABT  \\\n",
       "Datetime                                                                    \n",
       "2021-10-11 09:30:00-04:00  111.199997  120.519997  333.580200  118.260002   \n",
       "2021-10-11 09:32:00-04:00  111.160004  121.260002  333.104889  118.154999   \n",
       "2021-10-11 09:34:00-04:00  111.129997  121.184998  335.989990  118.599998   \n",
       "\n",
       "                                  ACN        ADBE  ...        XEL        XLNX  \\\n",
       "Datetime                                           ...                          \n",
       "2021-10-11 09:30:00-04:00  324.829987  571.551025  ...  61.740002  154.020004   \n",
       "2021-10-11 09:32:00-04:00  325.119995  574.900024  ...  62.064999  155.339996   \n",
       "2021-10-11 09:34:00-04:00  324.910004  575.900024  ...  62.360001  155.895004   \n",
       "\n",
       "                                 XOM       XRAY         XYL         YUM  \\\n",
       "Datetime                                                                  \n",
       "2021-10-11 09:30:00-04:00  62.622299  58.139999  121.169998  123.730003   \n",
       "2021-10-11 09:32:00-04:00  62.560001  58.119999  121.239998  123.787201   \n",
       "2021-10-11 09:34:00-04:00  62.556599  58.000000  120.980003  123.180000   \n",
       "\n",
       "                                  ZBH   ZBRA       ZION         ZTS  \n",
       "Datetime                                                             \n",
       "2021-10-11 09:30:00-04:00  146.309998  492.0  64.209999  196.289993  \n",
       "2021-10-11 09:32:00-04:00  146.315002    NaN  63.900002  196.509995  \n",
       "2021-10-11 09:34:00-04:00         NaN    NaN  63.650002  196.820007  \n",
       "\n",
       "[3 rows x 506 columns]"
      ]
     },
     "execution_count": 9,
     "metadata": {},
     "output_type": "execute_result"
    }
   ],
   "source": [
    "sp_2m_close.iloc[:3]"
   ]
  },
  {
   "cell_type": "markdown",
   "metadata": {},
   "source": [
    "# Calculate log-return (Return is log-normal)"
   ]
  },
  {
   "cell_type": "markdown",
   "metadata": {},
   "source": [
    "Call return function to calculate percent return for each time interval."
   ]
  },
  {
   "cell_type": "code",
   "execution_count": 10,
   "metadata": {},
   "outputs": [],
   "source": [
    "total_2m_return = return_df(sp_2m_close)"
   ]
  },
  {
   "cell_type": "markdown",
   "metadata": {},
   "source": [
    "Remove null rows."
   ]
  },
  {
   "cell_type": "code",
   "execution_count": 11,
   "metadata": {},
   "outputs": [],
   "source": [
    "#First row is always NaN\n",
    "total_2m_return = total_2m_return.dropna(how = \"all\")"
   ]
  },
  {
   "cell_type": "code",
   "execution_count": 12,
   "metadata": {},
   "outputs": [],
   "source": [
    "#Fill NaN with 0 in return df because NaN value represent a number too close to 0\n",
    "total_2m_return = total_2m_return.fillna(0)"
   ]
  },
  {
   "cell_type": "markdown",
   "metadata": {},
   "source": [
    "Verify null values have been removed."
   ]
  },
  {
   "cell_type": "code",
   "execution_count": 13,
   "metadata": {},
   "outputs": [
    {
     "data": {
      "text/html": [
       "<div>\n",
       "<style scoped>\n",
       "    .dataframe tbody tr th:only-of-type {\n",
       "        vertical-align: middle;\n",
       "    }\n",
       "\n",
       "    .dataframe tbody tr th {\n",
       "        vertical-align: top;\n",
       "    }\n",
       "\n",
       "    .dataframe thead th {\n",
       "        text-align: right;\n",
       "    }\n",
       "</style>\n",
       "<table border=\"1\" class=\"dataframe\">\n",
       "  <thead>\n",
       "    <tr style=\"text-align: right;\">\n",
       "      <th></th>\n",
       "      <th>A</th>\n",
       "      <th>AAL</th>\n",
       "      <th>AAP</th>\n",
       "      <th>AAPL</th>\n",
       "      <th>ABBV</th>\n",
       "      <th>ABC</th>\n",
       "      <th>ABMD</th>\n",
       "      <th>ABT</th>\n",
       "      <th>ACN</th>\n",
       "      <th>ADBE</th>\n",
       "      <th>...</th>\n",
       "      <th>XEL</th>\n",
       "      <th>XLNX</th>\n",
       "      <th>XOM</th>\n",
       "      <th>XRAY</th>\n",
       "      <th>XYL</th>\n",
       "      <th>YUM</th>\n",
       "      <th>ZBH</th>\n",
       "      <th>ZBRA</th>\n",
       "      <th>ZION</th>\n",
       "      <th>ZTS</th>\n",
       "    </tr>\n",
       "    <tr>\n",
       "      <th>Datetime</th>\n",
       "      <th></th>\n",
       "      <th></th>\n",
       "      <th></th>\n",
       "      <th></th>\n",
       "      <th></th>\n",
       "      <th></th>\n",
       "      <th></th>\n",
       "      <th></th>\n",
       "      <th></th>\n",
       "      <th></th>\n",
       "      <th></th>\n",
       "      <th></th>\n",
       "      <th></th>\n",
       "      <th></th>\n",
       "      <th></th>\n",
       "      <th></th>\n",
       "      <th></th>\n",
       "      <th></th>\n",
       "      <th></th>\n",
       "      <th></th>\n",
       "      <th></th>\n",
       "    </tr>\n",
       "  </thead>\n",
       "  <tbody>\n",
       "    <tr>\n",
       "      <th>2021-10-11 09:32:00-04:00</th>\n",
       "      <td>-0.000265</td>\n",
       "      <td>-0.004983</td>\n",
       "      <td>-0.000514</td>\n",
       "      <td>0.006320</td>\n",
       "      <td>-0.000360</td>\n",
       "      <td>0.006121</td>\n",
       "      <td>-0.001426</td>\n",
       "      <td>-0.000888</td>\n",
       "      <td>0.000892</td>\n",
       "      <td>0.005842</td>\n",
       "      <td>...</td>\n",
       "      <td>0.005250</td>\n",
       "      <td>0.008534</td>\n",
       "      <td>-0.000995</td>\n",
       "      <td>-0.000344</td>\n",
       "      <td>0.000578</td>\n",
       "      <td>0.000462</td>\n",
       "      <td>0.000034</td>\n",
       "      <td>0.000000</td>\n",
       "      <td>-0.00484</td>\n",
       "      <td>0.001120</td>\n",
       "    </tr>\n",
       "    <tr>\n",
       "      <th>2021-10-11 09:34:00-04:00</th>\n",
       "      <td>0.004238</td>\n",
       "      <td>-0.007521</td>\n",
       "      <td>0.000514</td>\n",
       "      <td>0.000280</td>\n",
       "      <td>-0.000270</td>\n",
       "      <td>-0.000619</td>\n",
       "      <td>0.008624</td>\n",
       "      <td>0.003759</td>\n",
       "      <td>-0.000646</td>\n",
       "      <td>0.001738</td>\n",
       "      <td>...</td>\n",
       "      <td>0.004742</td>\n",
       "      <td>0.003566</td>\n",
       "      <td>-0.000054</td>\n",
       "      <td>-0.002067</td>\n",
       "      <td>-0.002147</td>\n",
       "      <td>-0.004917</td>\n",
       "      <td>0.000000</td>\n",
       "      <td>0.000000</td>\n",
       "      <td>-0.00392</td>\n",
       "      <td>0.001576</td>\n",
       "    </tr>\n",
       "    <tr>\n",
       "      <th>2021-10-11 09:36:00-04:00</th>\n",
       "      <td>-0.004039</td>\n",
       "      <td>0.002789</td>\n",
       "      <td>-0.000187</td>\n",
       "      <td>-0.001891</td>\n",
       "      <td>0.000315</td>\n",
       "      <td>0.003336</td>\n",
       "      <td>0.000000</td>\n",
       "      <td>-0.003886</td>\n",
       "      <td>0.000062</td>\n",
       "      <td>-0.001808</td>\n",
       "      <td>...</td>\n",
       "      <td>-0.000802</td>\n",
       "      <td>0.000673</td>\n",
       "      <td>0.003406</td>\n",
       "      <td>-0.001035</td>\n",
       "      <td>0.001280</td>\n",
       "      <td>0.000244</td>\n",
       "      <td>0.001264</td>\n",
       "      <td>0.002923</td>\n",
       "      <td>0.00157</td>\n",
       "      <td>-0.000762</td>\n",
       "    </tr>\n",
       "  </tbody>\n",
       "</table>\n",
       "<p>3 rows × 506 columns</p>\n",
       "</div>"
      ],
      "text/plain": [
       "                                  A       AAL       AAP      AAPL      ABBV  \\\n",
       "Datetime                                                                      \n",
       "2021-10-11 09:32:00-04:00 -0.000265 -0.004983 -0.000514  0.006320 -0.000360   \n",
       "2021-10-11 09:34:00-04:00  0.004238 -0.007521  0.000514  0.000280 -0.000270   \n",
       "2021-10-11 09:36:00-04:00 -0.004039  0.002789 -0.000187 -0.001891  0.000315   \n",
       "\n",
       "                                ABC      ABMD       ABT       ACN      ADBE  \\\n",
       "Datetime                                                                      \n",
       "2021-10-11 09:32:00-04:00  0.006121 -0.001426 -0.000888  0.000892  0.005842   \n",
       "2021-10-11 09:34:00-04:00 -0.000619  0.008624  0.003759 -0.000646  0.001738   \n",
       "2021-10-11 09:36:00-04:00  0.003336  0.000000 -0.003886  0.000062 -0.001808   \n",
       "\n",
       "                           ...       XEL      XLNX       XOM      XRAY  \\\n",
       "Datetime                   ...                                           \n",
       "2021-10-11 09:32:00-04:00  ...  0.005250  0.008534 -0.000995 -0.000344   \n",
       "2021-10-11 09:34:00-04:00  ...  0.004742  0.003566 -0.000054 -0.002067   \n",
       "2021-10-11 09:36:00-04:00  ... -0.000802  0.000673  0.003406 -0.001035   \n",
       "\n",
       "                                XYL       YUM       ZBH      ZBRA     ZION  \\\n",
       "Datetime                                                                     \n",
       "2021-10-11 09:32:00-04:00  0.000578  0.000462  0.000034  0.000000 -0.00484   \n",
       "2021-10-11 09:34:00-04:00 -0.002147 -0.004917  0.000000  0.000000 -0.00392   \n",
       "2021-10-11 09:36:00-04:00  0.001280  0.000244  0.001264  0.002923  0.00157   \n",
       "\n",
       "                                ZTS  \n",
       "Datetime                             \n",
       "2021-10-11 09:32:00-04:00  0.001120  \n",
       "2021-10-11 09:34:00-04:00  0.001576  \n",
       "2021-10-11 09:36:00-04:00 -0.000762  \n",
       "\n",
       "[3 rows x 506 columns]"
      ]
     },
     "execution_count": 13,
     "metadata": {},
     "output_type": "execute_result"
    }
   ],
   "source": [
    "total_2m_return.iloc[:3]"
   ]
  },
  {
   "cell_type": "markdown",
   "metadata": {},
   "source": [
    "# Defining components return, market return, dummies beater"
   ]
  },
  {
   "cell_type": "markdown",
   "metadata": {},
   "source": [
    "Seperate market ETF from other companies to make comparisons later."
   ]
  },
  {
   "cell_type": "code",
   "execution_count": 15,
   "metadata": {},
   "outputs": [],
   "source": [
    "sp500_2m_return = total_2m_return.drop(columns=[\"SPY\"])"
   ]
  },
  {
   "cell_type": "markdown",
   "metadata": {},
   "source": [
    "This is used to find market benchmark which is Rm_2m - Rf."
   ]
  },
  {
   "cell_type": "code",
   "execution_count": 16,
   "metadata": {},
   "outputs": [],
   "source": [
    "Rm_2m = total_2m_return[['SPY']]\n",
    "#need to discount Monthly Rf to 2m Rf using yield curve(continuously compounded) when doing real time analysis\n",
    "#Rf is always a constant, so we set a small value for research purpose\n",
    "Rf = 0.000001"
   ]
  },
  {
   "cell_type": "markdown",
   "metadata": {},
   "source": [
    "Calls the dummy beater function to label our data for our supervised classification model. This dataset will return binary values indicating if a certain stock beat the market at a certain time based on the sharpe ratio."
   ]
  },
  {
   "cell_type": "code",
   "execution_count": 17,
   "metadata": {},
   "outputs": [],
   "source": [
    "dummies_2m_beater = dummies_beater(total_2m_return, Rf, option=\"sharpe\")"
   ]
  },
  {
   "cell_type": "markdown",
   "metadata": {},
   "source": [
    "Verify dataset has loaded correctly."
   ]
  },
  {
   "cell_type": "code",
   "execution_count": 18,
   "metadata": {},
   "outputs": [
    {
     "data": {
      "text/html": [
       "<div>\n",
       "<style scoped>\n",
       "    .dataframe tbody tr th:only-of-type {\n",
       "        vertical-align: middle;\n",
       "    }\n",
       "\n",
       "    .dataframe tbody tr th {\n",
       "        vertical-align: top;\n",
       "    }\n",
       "\n",
       "    .dataframe thead th {\n",
       "        text-align: right;\n",
       "    }\n",
       "</style>\n",
       "<table border=\"1\" class=\"dataframe\">\n",
       "  <thead>\n",
       "    <tr style=\"text-align: right;\">\n",
       "      <th></th>\n",
       "      <th>A</th>\n",
       "      <th>AAL</th>\n",
       "      <th>AAP</th>\n",
       "      <th>AAPL</th>\n",
       "      <th>ABBV</th>\n",
       "      <th>ABC</th>\n",
       "      <th>ABMD</th>\n",
       "      <th>ABT</th>\n",
       "      <th>ACN</th>\n",
       "      <th>ADBE</th>\n",
       "      <th>...</th>\n",
       "      <th>XEL</th>\n",
       "      <th>XLNX</th>\n",
       "      <th>XOM</th>\n",
       "      <th>XRAY</th>\n",
       "      <th>XYL</th>\n",
       "      <th>YUM</th>\n",
       "      <th>ZBH</th>\n",
       "      <th>ZBRA</th>\n",
       "      <th>ZION</th>\n",
       "      <th>ZTS</th>\n",
       "    </tr>\n",
       "    <tr>\n",
       "      <th>Datetime</th>\n",
       "      <th></th>\n",
       "      <th></th>\n",
       "      <th></th>\n",
       "      <th></th>\n",
       "      <th></th>\n",
       "      <th></th>\n",
       "      <th></th>\n",
       "      <th></th>\n",
       "      <th></th>\n",
       "      <th></th>\n",
       "      <th></th>\n",
       "      <th></th>\n",
       "      <th></th>\n",
       "      <th></th>\n",
       "      <th></th>\n",
       "      <th></th>\n",
       "      <th></th>\n",
       "      <th></th>\n",
       "      <th></th>\n",
       "      <th></th>\n",
       "      <th></th>\n",
       "    </tr>\n",
       "  </thead>\n",
       "  <tbody>\n",
       "    <tr>\n",
       "      <th>2021-10-11 09:32:00-04:00</th>\n",
       "      <td>0.0</td>\n",
       "      <td>0.0</td>\n",
       "      <td>0.0</td>\n",
       "      <td>1.0</td>\n",
       "      <td>0.0</td>\n",
       "      <td>1.0</td>\n",
       "      <td>0.0</td>\n",
       "      <td>0.0</td>\n",
       "      <td>0.0</td>\n",
       "      <td>1.0</td>\n",
       "      <td>...</td>\n",
       "      <td>1.0</td>\n",
       "      <td>1.0</td>\n",
       "      <td>0.0</td>\n",
       "      <td>0.0</td>\n",
       "      <td>0.0</td>\n",
       "      <td>0.0</td>\n",
       "      <td>0.0</td>\n",
       "      <td>0.0</td>\n",
       "      <td>0.0</td>\n",
       "      <td>0.0</td>\n",
       "    </tr>\n",
       "    <tr>\n",
       "      <th>2021-10-11 09:34:00-04:00</th>\n",
       "      <td>1.0</td>\n",
       "      <td>0.0</td>\n",
       "      <td>1.0</td>\n",
       "      <td>1.0</td>\n",
       "      <td>1.0</td>\n",
       "      <td>1.0</td>\n",
       "      <td>1.0</td>\n",
       "      <td>1.0</td>\n",
       "      <td>1.0</td>\n",
       "      <td>1.0</td>\n",
       "      <td>...</td>\n",
       "      <td>1.0</td>\n",
       "      <td>1.0</td>\n",
       "      <td>1.0</td>\n",
       "      <td>1.0</td>\n",
       "      <td>1.0</td>\n",
       "      <td>0.0</td>\n",
       "      <td>1.0</td>\n",
       "      <td>1.0</td>\n",
       "      <td>0.0</td>\n",
       "      <td>1.0</td>\n",
       "    </tr>\n",
       "    <tr>\n",
       "      <th>2021-10-11 09:36:00-04:00</th>\n",
       "      <td>0.0</td>\n",
       "      <td>1.0</td>\n",
       "      <td>0.0</td>\n",
       "      <td>0.0</td>\n",
       "      <td>0.0</td>\n",
       "      <td>1.0</td>\n",
       "      <td>0.0</td>\n",
       "      <td>0.0</td>\n",
       "      <td>0.0</td>\n",
       "      <td>0.0</td>\n",
       "      <td>...</td>\n",
       "      <td>0.0</td>\n",
       "      <td>1.0</td>\n",
       "      <td>1.0</td>\n",
       "      <td>0.0</td>\n",
       "      <td>1.0</td>\n",
       "      <td>0.0</td>\n",
       "      <td>1.0</td>\n",
       "      <td>1.0</td>\n",
       "      <td>1.0</td>\n",
       "      <td>0.0</td>\n",
       "    </tr>\n",
       "  </tbody>\n",
       "</table>\n",
       "<p>3 rows × 505 columns</p>\n",
       "</div>"
      ],
      "text/plain": [
       "                             A  AAL  AAP  AAPL  ABBV  ABC  ABMD  ABT  ACN  \\\n",
       "Datetime                                                                    \n",
       "2021-10-11 09:32:00-04:00  0.0  0.0  0.0   1.0   0.0  1.0   0.0  0.0  0.0   \n",
       "2021-10-11 09:34:00-04:00  1.0  0.0  1.0   1.0   1.0  1.0   1.0  1.0  1.0   \n",
       "2021-10-11 09:36:00-04:00  0.0  1.0  0.0   0.0   0.0  1.0   0.0  0.0  0.0   \n",
       "\n",
       "                           ADBE  ...  XEL  XLNX  XOM  XRAY  XYL  YUM  ZBH  \\\n",
       "Datetime                         ...                                        \n",
       "2021-10-11 09:32:00-04:00   1.0  ...  1.0   1.0  0.0   0.0  0.0  0.0  0.0   \n",
       "2021-10-11 09:34:00-04:00   1.0  ...  1.0   1.0  1.0   1.0  1.0  0.0  1.0   \n",
       "2021-10-11 09:36:00-04:00   0.0  ...  0.0   1.0  1.0   0.0  1.0  0.0  1.0   \n",
       "\n",
       "                           ZBRA  ZION  ZTS  \n",
       "Datetime                                    \n",
       "2021-10-11 09:32:00-04:00   0.0   0.0  0.0  \n",
       "2021-10-11 09:34:00-04:00   1.0   0.0  1.0  \n",
       "2021-10-11 09:36:00-04:00   1.0   1.0  0.0  \n",
       "\n",
       "[3 rows x 505 columns]"
      ]
     },
     "execution_count": 18,
     "metadata": {},
     "output_type": "execute_result"
    }
   ],
   "source": [
    "dummies_2m_beater.iloc[:3]"
   ]
  },
  {
   "cell_type": "markdown",
   "metadata": {},
   "source": [
    "# Feature Engineering"
   ]
  },
  {
   "cell_type": "markdown",
   "metadata": {},
   "source": [
    "## Calculate FF factors"
   ]
  },
  {
   "cell_type": "markdown",
   "metadata": {},
   "source": [
    "This calls our various Fama-French functions in order to calculate the factors which were significant at a certain time."
   ]
  },
  {
   "cell_type": "code",
   "execution_count": 19,
   "metadata": {},
   "outputs": [],
   "source": [
    "#Calculate 2min FF factors (5 return spreads)\n",
    "FF_info_labeled = FF_assign_label(FF_info)\n",
    "FF_classified_list = FF_factor_classifier(FF_info_labeled)\n",
    "FF_2m_classes_return = FF_classes_return(sp500_2m_return,FF_classified_list)\n",
    "FF_2m_factor = FF_calc_factors(FF_2m_classes_return)\n",
    "FF_2m_factor[\"Rm-Rf\"] = Rm_2m - Rf"
   ]
  },
  {
   "cell_type": "markdown",
   "metadata": {},
   "source": [
    "Account for null values."
   ]
  },
  {
   "cell_type": "code",
   "execution_count": 20,
   "metadata": {},
   "outputs": [],
   "source": [
    "# fill NaN with 0 for FF factors because the value is too small\n",
    "FF_2m_factor = FF_2m_factor.fillna(0)"
   ]
  },
  {
   "cell_type": "markdown",
   "metadata": {},
   "source": [
    "Verify the dataset has loaded correctly."
   ]
  },
  {
   "cell_type": "code",
   "execution_count": 21,
   "metadata": {},
   "outputs": [
    {
     "data": {
      "text/html": [
       "<div>\n",
       "<style scoped>\n",
       "    .dataframe tbody tr th:only-of-type {\n",
       "        vertical-align: middle;\n",
       "    }\n",
       "\n",
       "    .dataframe tbody tr th {\n",
       "        vertical-align: top;\n",
       "    }\n",
       "\n",
       "    .dataframe thead th {\n",
       "        text-align: right;\n",
       "    }\n",
       "</style>\n",
       "<table border=\"1\" class=\"dataframe\">\n",
       "  <thead>\n",
       "    <tr style=\"text-align: right;\">\n",
       "      <th></th>\n",
       "      <th>SMB</th>\n",
       "      <th>HML</th>\n",
       "      <th>RMW</th>\n",
       "      <th>CMA</th>\n",
       "      <th>Rm-Rf</th>\n",
       "    </tr>\n",
       "    <tr>\n",
       "      <th>Datetime</th>\n",
       "      <th></th>\n",
       "      <th></th>\n",
       "      <th></th>\n",
       "      <th></th>\n",
       "      <th></th>\n",
       "    </tr>\n",
       "  </thead>\n",
       "  <tbody>\n",
       "    <tr>\n",
       "      <th>2021-10-11 09:32:00-04:00</th>\n",
       "      <td>-0.001462</td>\n",
       "      <td>-0.003179</td>\n",
       "      <td>0.001835</td>\n",
       "      <td>-0.000872</td>\n",
       "      <td>0.001503</td>\n",
       "    </tr>\n",
       "    <tr>\n",
       "      <th>2021-10-11 09:34:00-04:00</th>\n",
       "      <td>-0.005193</td>\n",
       "      <td>-0.002111</td>\n",
       "      <td>0.001227</td>\n",
       "      <td>-0.000469</td>\n",
       "      <td>-0.001025</td>\n",
       "    </tr>\n",
       "    <tr>\n",
       "      <th>2021-10-11 09:36:00-04:00</th>\n",
       "      <td>0.004055</td>\n",
       "      <td>0.001614</td>\n",
       "      <td>-0.001921</td>\n",
       "      <td>0.001213</td>\n",
       "      <td>0.000136</td>\n",
       "    </tr>\n",
       "  </tbody>\n",
       "</table>\n",
       "</div>"
      ],
      "text/plain": [
       "                                SMB       HML       RMW       CMA     Rm-Rf\n",
       "Datetime                                                                   \n",
       "2021-10-11 09:32:00-04:00 -0.001462 -0.003179  0.001835 -0.000872  0.001503\n",
       "2021-10-11 09:34:00-04:00 -0.005193 -0.002111  0.001227 -0.000469 -0.001025\n",
       "2021-10-11 09:36:00-04:00  0.004055  0.001614 -0.001921  0.001213  0.000136"
      ]
     },
     "execution_count": 21,
     "metadata": {},
     "output_type": "execute_result"
    }
   ],
   "source": [
    "FF_2m_factor.iloc[:3]"
   ]
  },
  {
   "cell_type": "markdown",
   "metadata": {},
   "source": [
    "## Calculate features and relevant statistic for given company "
   ]
  },
  {
   "cell_type": "markdown",
   "metadata": {},
   "source": [
    "Because of multi-collinearity between FF factors, we need to incorporate models like ridge regression and elastic net into parameters estimation process. The default argument is linear model without polynomial features. "
   ]
  },
  {
   "cell_type": "code",
   "execution_count": 22,
   "metadata": {},
   "outputs": [
    {
     "data": {
      "text/plain": [
       "(   Coefficients  Standard_Errors  t_stat  P_value\n",
       " 0        0.0000            0.000   0.325    0.745\n",
       " 1       -0.3181            0.012 -27.625    0.000\n",
       " 2       -0.4702            0.022 -21.836    0.000\n",
       " 3        0.6130            0.024  25.983    0.000\n",
       " 4        1.4745            0.030  49.395    0.000\n",
       " 5        1.6016            0.027  59.135    0.000,\n",
       " 0.5610279415110841)"
      ]
     },
     "execution_count": 22,
     "metadata": {},
     "output_type": "execute_result"
    }
   ],
   "source": [
    "FF_regress(FF_2m_factor, sp500_2m_return[\"AAPL\"]-Rf)"
   ]
  },
  {
   "cell_type": "markdown",
   "metadata": {},
   "source": [
    "Other regression models can be used by specifing an input variable; modelType is for model selection and transform is for polynomial feature transformation."
   ]
  },
  {
   "cell_type": "code",
   "execution_count": 23,
   "metadata": {},
   "outputs": [
    {
     "data": {
      "text/plain": [
       "(    Coefficients  Standard_Errors  t_stat  P_value\n",
       " 0         0.0000            0.000   0.391    0.696\n",
       " 1        -0.3057            0.012 -25.817    0.000\n",
       " 2        -0.4700            0.023 -20.178    0.000\n",
       " 3         0.5877            0.027  21.563    0.000\n",
       " 4         1.3688            0.034  40.837    0.000\n",
       " 5         1.6059            0.027  58.914    0.000\n",
       " 6        10.0791           10.604   0.950    0.342\n",
       " 7         0.7609           13.778   0.055    0.956\n",
       " 8        11.1005           16.400   0.677    0.499\n",
       " 9        -8.8915            4.051  -2.195    0.028\n",
       " 10        0.9623           20.723   0.046    0.963\n",
       " 11       -5.5943           11.254  -0.497    0.619\n",
       " 12        6.8146           26.527   0.257    0.797\n",
       " 13        1.1029           16.183   0.068    0.946\n",
       " 14       -1.0358           44.089  -0.023    0.981\n",
       " 15        6.0549           40.793   0.148    0.882,\n",
       " 0.594822401538648)"
      ]
     },
     "execution_count": 23,
     "metadata": {},
     "output_type": "execute_result"
    }
   ],
   "source": [
    "FF_regress(FF_2m_factor, sp500_2m_return[\"AAPL\"]-Rf, modelType=\"ridge\", transform = True)"
   ]
  },
  {
   "cell_type": "markdown",
   "metadata": {},
   "source": [
    "# Time Series model construction"
   ]
  },
  {
   "cell_type": "markdown",
   "metadata": {},
   "source": [
    "The long term probability for any company to beat the market is 0.5, but we suspect serial correlation exists, so we measure the probability of beating the market for last 10, 20, and 30 observations and add them as features for time-series prediction."
   ]
  },
  {
   "cell_type": "code",
   "execution_count": 24,
   "metadata": {},
   "outputs": [
    {
     "data": {
      "application/vnd.jupyter.widget-view+json": {
       "model_id": "f1e586ee00f74037923fb68e0a01c497",
       "version_major": 2,
       "version_minor": 0
      },
      "text/plain": [
       "  0%|          | 0/1000 [00:00<?, ?it/s]"
      ]
     },
     "metadata": {},
     "output_type": "display_data"
    },
    {
     "data": {
      "text/plain": [
       "<matplotlib.collections.PathCollection at 0x16fb18e1df0>"
      ]
     },
     "execution_count": 24,
     "metadata": {},
     "output_type": "execute_result"
    },
    {
     "data": {
      "image/png": "[encoded data removed]",
      "text/plain": [
       "<Figure size 432x288 with 1 Axes>"
      ]
     },
     "metadata": {
      "needs_background": "light"
     },
     "output_type": "display_data"
    }
   ],
   "source": [
    "time_length = range(len(dummies_2m_beater.index[:1000]))\n",
    "winner_rate_list = []\n",
    "for length in tqdm(time_length):\n",
    "    winner_rate = dummies_2m_beater[\"AAPL\"].iloc[:length].mean()\n",
    "    winner_rate_list.append(winner_rate)\n",
    "    \n",
    "plt.scatter(time_length, winner_rate_list, s=3)"
   ]
  },
  {
   "cell_type": "markdown",
   "metadata": {},
   "source": [
    "Our goal is to predict wheather a given security or portfolio will outperform the market in the next trading period, so we estimate factor exposure based on a given amount of most recent observations at T0 and use the exposures+relevant statistic to predict the outcome at T1. Since the probability of beating the market will converge to 0.5 as observation increase, we also include realized probabilities that are observe from last 10, 20, and 30 observations as features. We will roll the model and make prediction for at least 10 trading period, and will collect accuracy metrics of time-series prediction."
   ]
  },
  {
   "cell_type": "markdown",
   "metadata": {},
   "source": [
    "# Test the model performence over time"
   ]
  },
  {
   "cell_type": "markdown",
   "metadata": {},
   "source": [
    "The first prediction uses the default arguements which uses linear regression without polynomial features."
   ]
  },
  {
   "cell_type": "code",
   "execution_count": 28,
   "metadata": {},
   "outputs": [],
   "source": [
    "p1 = performence_df(FF_2m_factor,total_2m_return, Rf=Rf)"
   ]
  },
  {
   "cell_type": "code",
   "execution_count": 29,
   "metadata": {},
   "outputs": [
    {
     "data": {
      "text/html": [
       "<div>\n",
       "<style scoped>\n",
       "    .dataframe tbody tr th:only-of-type {\n",
       "        vertical-align: middle;\n",
       "    }\n",
       "\n",
       "    .dataframe tbody tr th {\n",
       "        vertical-align: top;\n",
       "    }\n",
       "\n",
       "    .dataframe thead th {\n",
       "        text-align: right;\n",
       "    }\n",
       "</style>\n",
       "<table border=\"1\" class=\"dataframe\">\n",
       "  <thead>\n",
       "    <tr style=\"text-align: right;\">\n",
       "      <th></th>\n",
       "      <th>precision</th>\n",
       "      <th>recall</th>\n",
       "      <th>f1</th>\n",
       "    </tr>\n",
       "  </thead>\n",
       "  <tbody>\n",
       "    <tr>\n",
       "      <th>0</th>\n",
       "      <td>0.772727</td>\n",
       "      <td>0.283333</td>\n",
       "      <td>0.414634</td>\n",
       "    </tr>\n",
       "    <tr>\n",
       "      <th>1</th>\n",
       "      <td>0.500000</td>\n",
       "      <td>0.717391</td>\n",
       "      <td>0.589286</td>\n",
       "    </tr>\n",
       "  </tbody>\n",
       "</table>\n",
       "</div>"
      ],
      "text/plain": [
       "   precision    recall        f1\n",
       "0   0.772727  0.283333  0.414634\n",
       "1   0.500000  0.717391  0.589286"
      ]
     },
     "execution_count": 29,
     "metadata": {},
     "output_type": "execute_result"
    }
   ],
   "source": [
    "p1"
   ]
  },
  {
   "cell_type": "markdown",
   "metadata": {},
   "source": [
    "Second prediction uses lasso sci-kit linear regression model."
   ]
  },
  {
   "cell_type": "code",
   "execution_count": 30,
   "metadata": {},
   "outputs": [],
   "source": [
    "p2 = performence_df(FF_2m_factor,total_2m_return, Rf=Rf, modelType=\"lasso\")"
   ]
  },
  {
   "cell_type": "code",
   "execution_count": 31,
   "metadata": {},
   "outputs": [
    {
     "data": {
      "text/html": [
       "<div>\n",
       "<style scoped>\n",
       "    .dataframe tbody tr th:only-of-type {\n",
       "        vertical-align: middle;\n",
       "    }\n",
       "\n",
       "    .dataframe tbody tr th {\n",
       "        vertical-align: top;\n",
       "    }\n",
       "\n",
       "    .dataframe thead th {\n",
       "        text-align: right;\n",
       "    }\n",
       "</style>\n",
       "<table border=\"1\" class=\"dataframe\">\n",
       "  <thead>\n",
       "    <tr style=\"text-align: right;\">\n",
       "      <th></th>\n",
       "      <th>precision</th>\n",
       "      <th>recall</th>\n",
       "      <th>f1</th>\n",
       "    </tr>\n",
       "  </thead>\n",
       "  <tbody>\n",
       "    <tr>\n",
       "      <th>0</th>\n",
       "      <td>0.755556</td>\n",
       "      <td>0.566667</td>\n",
       "      <td>0.647619</td>\n",
       "    </tr>\n",
       "    <tr>\n",
       "      <th>1</th>\n",
       "      <td>0.473333</td>\n",
       "      <td>0.771739</td>\n",
       "      <td>0.586777</td>\n",
       "    </tr>\n",
       "  </tbody>\n",
       "</table>\n",
       "</div>"
      ],
      "text/plain": [
       "   precision    recall        f1\n",
       "0   0.755556  0.566667  0.647619\n",
       "1   0.473333  0.771739  0.586777"
      ]
     },
     "execution_count": 31,
     "metadata": {},
     "output_type": "execute_result"
    }
   ],
   "source": [
    "p2"
   ]
  },
  {
   "cell_type": "markdown",
   "metadata": {},
   "source": [
    "Third prediction uses elastic model without polynomial features."
   ]
  },
  {
   "cell_type": "code",
   "execution_count": 32,
   "metadata": {},
   "outputs": [],
   "source": [
    "p3 = performence_df(FF_2m_factor,total_2m_return, Rf=Rf, modelType=\"elastic\", transform=False)"
   ]
  },
  {
   "cell_type": "code",
   "execution_count": 33,
   "metadata": {},
   "outputs": [
    {
     "data": {
      "text/html": [
       "<div>\n",
       "<style scoped>\n",
       "    .dataframe tbody tr th:only-of-type {\n",
       "        vertical-align: middle;\n",
       "    }\n",
       "\n",
       "    .dataframe tbody tr th {\n",
       "        vertical-align: top;\n",
       "    }\n",
       "\n",
       "    .dataframe thead th {\n",
       "        text-align: right;\n",
       "    }\n",
       "</style>\n",
       "<table border=\"1\" class=\"dataframe\">\n",
       "  <thead>\n",
       "    <tr style=\"text-align: right;\">\n",
       "      <th></th>\n",
       "      <th>precision</th>\n",
       "      <th>recall</th>\n",
       "      <th>f1</th>\n",
       "    </tr>\n",
       "  </thead>\n",
       "  <tbody>\n",
       "    <tr>\n",
       "      <th>0</th>\n",
       "      <td>0.700000</td>\n",
       "      <td>0.525000</td>\n",
       "      <td>0.600000</td>\n",
       "    </tr>\n",
       "    <tr>\n",
       "      <th>1</th>\n",
       "      <td>0.475904</td>\n",
       "      <td>0.858696</td>\n",
       "      <td>0.612403</td>\n",
       "    </tr>\n",
       "  </tbody>\n",
       "</table>\n",
       "</div>"
      ],
      "text/plain": [
       "   precision    recall        f1\n",
       "0   0.700000  0.525000  0.600000\n",
       "1   0.475904  0.858696  0.612403"
      ]
     },
     "execution_count": 33,
     "metadata": {},
     "output_type": "execute_result"
    }
   ],
   "source": [
    "p3"
   ]
  },
  {
   "cell_type": "markdown",
   "metadata": {},
   "source": [
    "Fourth prediction uses ridge model without polynomial features."
   ]
  },
  {
   "cell_type": "code",
   "execution_count": 34,
   "metadata": {},
   "outputs": [],
   "source": [
    "p4 = performence_df(FF_2m_factor,total_2m_return, Rf=Rf, modelType=\"ridge\")"
   ]
  },
  {
   "cell_type": "code",
   "execution_count": 35,
   "metadata": {},
   "outputs": [
    {
     "data": {
      "text/html": [
       "<div>\n",
       "<style scoped>\n",
       "    .dataframe tbody tr th:only-of-type {\n",
       "        vertical-align: middle;\n",
       "    }\n",
       "\n",
       "    .dataframe tbody tr th {\n",
       "        vertical-align: top;\n",
       "    }\n",
       "\n",
       "    .dataframe thead th {\n",
       "        text-align: right;\n",
       "    }\n",
       "</style>\n",
       "<table border=\"1\" class=\"dataframe\">\n",
       "  <thead>\n",
       "    <tr style=\"text-align: right;\">\n",
       "      <th></th>\n",
       "      <th>precision</th>\n",
       "      <th>recall</th>\n",
       "      <th>f1</th>\n",
       "    </tr>\n",
       "  </thead>\n",
       "  <tbody>\n",
       "    <tr>\n",
       "      <th>0</th>\n",
       "      <td>0.764706</td>\n",
       "      <td>0.216667</td>\n",
       "      <td>0.337662</td>\n",
       "    </tr>\n",
       "    <tr>\n",
       "      <th>1</th>\n",
       "      <td>0.610390</td>\n",
       "      <td>0.510870</td>\n",
       "      <td>0.556213</td>\n",
       "    </tr>\n",
       "  </tbody>\n",
       "</table>\n",
       "</div>"
      ],
      "text/plain": [
       "   precision    recall        f1\n",
       "0   0.764706  0.216667  0.337662\n",
       "1   0.610390  0.510870  0.556213"
      ]
     },
     "execution_count": 35,
     "metadata": {},
     "output_type": "execute_result"
    }
   ],
   "source": [
    "p4"
   ]
  },
  {
   "cell_type": "markdown",
   "metadata": {},
   "source": [
    "Fourth prediction uses ridge model with polynomial features."
   ]
  },
  {
   "cell_type": "code",
   "execution_count": 36,
   "metadata": {},
   "outputs": [],
   "source": [
    "p5 =  performence_df(FF_2m_factor,total_2m_return, Rf=Rf, modelType=\"ridge\", transform=True)"
   ]
  },
  {
   "cell_type": "code",
   "execution_count": 37,
   "metadata": {},
   "outputs": [
    {
     "data": {
      "text/html": [
       "<div>\n",
       "<style scoped>\n",
       "    .dataframe tbody tr th:only-of-type {\n",
       "        vertical-align: middle;\n",
       "    }\n",
       "\n",
       "    .dataframe tbody tr th {\n",
       "        vertical-align: top;\n",
       "    }\n",
       "\n",
       "    .dataframe thead th {\n",
       "        text-align: right;\n",
       "    }\n",
       "</style>\n",
       "<table border=\"1\" class=\"dataframe\">\n",
       "  <thead>\n",
       "    <tr style=\"text-align: right;\">\n",
       "      <th></th>\n",
       "      <th>precision</th>\n",
       "      <th>recall</th>\n",
       "      <th>f1</th>\n",
       "    </tr>\n",
       "  </thead>\n",
       "  <tbody>\n",
       "    <tr>\n",
       "      <th>0</th>\n",
       "      <td>0.882353</td>\n",
       "      <td>0.250000</td>\n",
       "      <td>0.389610</td>\n",
       "    </tr>\n",
       "    <tr>\n",
       "      <th>1</th>\n",
       "      <td>0.484472</td>\n",
       "      <td>0.847826</td>\n",
       "      <td>0.616601</td>\n",
       "    </tr>\n",
       "  </tbody>\n",
       "</table>\n",
       "</div>"
      ],
      "text/plain": [
       "   precision    recall        f1\n",
       "0   0.882353  0.250000  0.389610\n",
       "1   0.484472  0.847826  0.616601"
      ]
     },
     "execution_count": 37,
     "metadata": {},
     "output_type": "execute_result"
    }
   ],
   "source": [
    "p5"
   ]
  },
  {
   "cell_type": "markdown",
   "metadata": {},
   "source": [
    "Fifth prediction uses elastic model with polynomial features."
   ]
  },
  {
   "cell_type": "code",
   "execution_count": 38,
   "metadata": {},
   "outputs": [],
   "source": [
    "p6 = performence_df(FF_2m_factor,total_2m_return, Rf=Rf, modelType=\"elastic\" , transform=True)"
   ]
  },
  {
   "cell_type": "code",
   "execution_count": 39,
   "metadata": {},
   "outputs": [
    {
     "data": {
      "text/html": [
       "<div>\n",
       "<style scoped>\n",
       "    .dataframe tbody tr th:only-of-type {\n",
       "        vertical-align: middle;\n",
       "    }\n",
       "\n",
       "    .dataframe tbody tr th {\n",
       "        vertical-align: top;\n",
       "    }\n",
       "\n",
       "    .dataframe thead th {\n",
       "        text-align: right;\n",
       "    }\n",
       "</style>\n",
       "<table border=\"1\" class=\"dataframe\">\n",
       "  <thead>\n",
       "    <tr style=\"text-align: right;\">\n",
       "      <th></th>\n",
       "      <th>precision</th>\n",
       "      <th>recall</th>\n",
       "      <th>f1</th>\n",
       "    </tr>\n",
       "  </thead>\n",
       "  <tbody>\n",
       "    <tr>\n",
       "      <th>0</th>\n",
       "      <td>0.804878</td>\n",
       "      <td>0.275000</td>\n",
       "      <td>0.409938</td>\n",
       "    </tr>\n",
       "    <tr>\n",
       "      <th>1</th>\n",
       "      <td>0.464088</td>\n",
       "      <td>0.913043</td>\n",
       "      <td>0.615385</td>\n",
       "    </tr>\n",
       "  </tbody>\n",
       "</table>\n",
       "</div>"
      ],
      "text/plain": [
       "   precision    recall        f1\n",
       "0   0.804878  0.275000  0.409938\n",
       "1   0.464088  0.913043  0.615385"
      ]
     },
     "execution_count": 39,
     "metadata": {},
     "output_type": "execute_result"
    }
   ],
   "source": [
    "p6"
   ]
  },
  {
   "cell_type": "markdown",
   "metadata": {},
   "source": [
    "It is interesting to observe that our algorithm predicts not-buy signals better than buy signals. This isn't too concerning in finance as the opposite issue is much worse. In this case we prefer false-negatives instead of false-positives."
   ]
  },
  {
   "cell_type": "markdown",
   "metadata": {},
   "source": [
    "# Result from testing the models 100 trading period"
   ]
  },
  {
   "cell_type": "markdown",
   "metadata": {},
   "source": [
    "We now load the dataset of rolling the model over a much larger timeframe to visualize our results."
   ]
  },
  {
   "cell_type": "code",
   "execution_count": 40,
   "metadata": {},
   "outputs": [],
   "source": [
    "result = pd.read_csv(\"performence_2m_100obs.csv\")"
   ]
  },
  {
   "cell_type": "code",
   "execution_count": 41,
   "metadata": {},
   "outputs": [],
   "source": [
    "linear_wo_poly_result = result[result[\"model\"]==\"linear_wo_poly_100p\"]\n",
    "lasso_wo_poly_result = result[result[\"model\"]==\"lass_wo_poly_100p\"]\n",
    "elastic_wo_poly_result = result[result[\"model\"]==\"ela_wo_poly_100p\"]\n",
    "ridge_wo_poly_result = result[result[\"model\"]==\"ridg_wo_poly_100p\"]\n",
    "ridge_w_poly_result = result[result[\"model\"]==\"ridg_w_poly_100p\"]\n",
    "elastic_w_poly_result = result[result[\"model\"]==\"ela_w_poly_100p\"]"
   ]
  },
  {
   "cell_type": "markdown",
   "metadata": {},
   "source": [
    "## Summary Statistics"
   ]
  },
  {
   "cell_type": "markdown",
   "metadata": {},
   "source": [
    "Below we visualize results and get summary statistics for our report."
   ]
  },
  {
   "cell_type": "code",
   "execution_count": 42,
   "metadata": {},
   "outputs": [
    {
     "data": {
      "text/html": [
       "<div>\n",
       "<style scoped>\n",
       "    .dataframe tbody tr th:only-of-type {\n",
       "        vertical-align: middle;\n",
       "    }\n",
       "\n",
       "    .dataframe tbody tr th {\n",
       "        vertical-align: top;\n",
       "    }\n",
       "\n",
       "    .dataframe thead th {\n",
       "        text-align: right;\n",
       "    }\n",
       "</style>\n",
       "<table border=\"1\" class=\"dataframe\">\n",
       "  <thead>\n",
       "    <tr style=\"text-align: right;\">\n",
       "      <th></th>\n",
       "      <th>precision</th>\n",
       "      <th>recall</th>\n",
       "      <th>f1</th>\n",
       "    </tr>\n",
       "  </thead>\n",
       "  <tbody>\n",
       "    <tr>\n",
       "      <th>count</th>\n",
       "      <td>100.000000</td>\n",
       "      <td>100.000000</td>\n",
       "      <td>100.000000</td>\n",
       "    </tr>\n",
       "    <tr>\n",
       "      <th>mean</th>\n",
       "      <td>0.626702</td>\n",
       "      <td>0.617759</td>\n",
       "      <td>0.591196</td>\n",
       "    </tr>\n",
       "    <tr>\n",
       "      <th>std</th>\n",
       "      <td>0.125047</td>\n",
       "      <td>0.255708</td>\n",
       "      <td>0.190314</td>\n",
       "    </tr>\n",
       "    <tr>\n",
       "      <th>min</th>\n",
       "      <td>0.125000</td>\n",
       "      <td>0.014085</td>\n",
       "      <td>0.025316</td>\n",
       "    </tr>\n",
       "    <tr>\n",
       "      <th>25%</th>\n",
       "      <td>0.567441</td>\n",
       "      <td>0.454545</td>\n",
       "      <td>0.519211</td>\n",
       "    </tr>\n",
       "    <tr>\n",
       "      <th>50%</th>\n",
       "      <td>0.643719</td>\n",
       "      <td>0.685658</td>\n",
       "      <td>0.631049</td>\n",
       "    </tr>\n",
       "    <tr>\n",
       "      <th>75%</th>\n",
       "      <td>0.706163</td>\n",
       "      <td>0.811128</td>\n",
       "      <td>0.727281</td>\n",
       "    </tr>\n",
       "    <tr>\n",
       "      <th>max</th>\n",
       "      <td>1.000000</td>\n",
       "      <td>0.977099</td>\n",
       "      <td>0.855263</td>\n",
       "    </tr>\n",
       "  </tbody>\n",
       "</table>\n",
       "</div>"
      ],
      "text/plain": [
       "        precision      recall          f1\n",
       "count  100.000000  100.000000  100.000000\n",
       "mean     0.626702    0.617759    0.591196\n",
       "std      0.125047    0.255708    0.190314\n",
       "min      0.125000    0.014085    0.025316\n",
       "25%      0.567441    0.454545    0.519211\n",
       "50%      0.643719    0.685658    0.631049\n",
       "75%      0.706163    0.811128    0.727281\n",
       "max      1.000000    0.977099    0.855263"
      ]
     },
     "execution_count": 42,
     "metadata": {},
     "output_type": "execute_result"
    }
   ],
   "source": [
    "linear_wo_poly_result.describe().drop(columns = [\"test_trial\"])"
   ]
  },
  {
   "cell_type": "code",
   "execution_count": 43,
   "metadata": {},
   "outputs": [
    {
     "data": {
      "text/html": [
       "<div>\n",
       "<style scoped>\n",
       "    .dataframe tbody tr th:only-of-type {\n",
       "        vertical-align: middle;\n",
       "    }\n",
       "\n",
       "    .dataframe tbody tr th {\n",
       "        vertical-align: top;\n",
       "    }\n",
       "\n",
       "    .dataframe thead th {\n",
       "        text-align: right;\n",
       "    }\n",
       "</style>\n",
       "<table border=\"1\" class=\"dataframe\">\n",
       "  <thead>\n",
       "    <tr style=\"text-align: right;\">\n",
       "      <th></th>\n",
       "      <th>precision</th>\n",
       "      <th>recall</th>\n",
       "      <th>f1</th>\n",
       "    </tr>\n",
       "  </thead>\n",
       "  <tbody>\n",
       "    <tr>\n",
       "      <th>count</th>\n",
       "      <td>100.000000</td>\n",
       "      <td>100.000000</td>\n",
       "      <td>100.000000</td>\n",
       "    </tr>\n",
       "    <tr>\n",
       "      <th>mean</th>\n",
       "      <td>0.640537</td>\n",
       "      <td>0.603010</td>\n",
       "      <td>0.570042</td>\n",
       "    </tr>\n",
       "    <tr>\n",
       "      <th>std</th>\n",
       "      <td>0.129128</td>\n",
       "      <td>0.304059</td>\n",
       "      <td>0.209609</td>\n",
       "    </tr>\n",
       "    <tr>\n",
       "      <th>min</th>\n",
       "      <td>0.333333</td>\n",
       "      <td>0.012048</td>\n",
       "      <td>0.023810</td>\n",
       "    </tr>\n",
       "    <tr>\n",
       "      <th>25%</th>\n",
       "      <td>0.563189</td>\n",
       "      <td>0.342210</td>\n",
       "      <td>0.472376</td>\n",
       "    </tr>\n",
       "    <tr>\n",
       "      <th>50%</th>\n",
       "      <td>0.647059</td>\n",
       "      <td>0.647451</td>\n",
       "      <td>0.626786</td>\n",
       "    </tr>\n",
       "    <tr>\n",
       "      <th>75%</th>\n",
       "      <td>0.731012</td>\n",
       "      <td>0.891730</td>\n",
       "      <td>0.726955</td>\n",
       "    </tr>\n",
       "    <tr>\n",
       "      <th>max</th>\n",
       "      <td>1.000000</td>\n",
       "      <td>1.000000</td>\n",
       "      <td>0.855385</td>\n",
       "    </tr>\n",
       "  </tbody>\n",
       "</table>\n",
       "</div>"
      ],
      "text/plain": [
       "        precision      recall          f1\n",
       "count  100.000000  100.000000  100.000000\n",
       "mean     0.640537    0.603010    0.570042\n",
       "std      0.129128    0.304059    0.209609\n",
       "min      0.333333    0.012048    0.023810\n",
       "25%      0.563189    0.342210    0.472376\n",
       "50%      0.647059    0.647451    0.626786\n",
       "75%      0.731012    0.891730    0.726955\n",
       "max      1.000000    1.000000    0.855385"
      ]
     },
     "execution_count": 43,
     "metadata": {},
     "output_type": "execute_result"
    }
   ],
   "source": [
    "lasso_wo_poly_result.describe().drop(columns = [\"test_trial\"])"
   ]
  },
  {
   "cell_type": "code",
   "execution_count": 44,
   "metadata": {},
   "outputs": [
    {
     "data": {
      "text/html": [
       "<div>\n",
       "<style scoped>\n",
       "    .dataframe tbody tr th:only-of-type {\n",
       "        vertical-align: middle;\n",
       "    }\n",
       "\n",
       "    .dataframe tbody tr th {\n",
       "        vertical-align: top;\n",
       "    }\n",
       "\n",
       "    .dataframe thead th {\n",
       "        text-align: right;\n",
       "    }\n",
       "</style>\n",
       "<table border=\"1\" class=\"dataframe\">\n",
       "  <thead>\n",
       "    <tr style=\"text-align: right;\">\n",
       "      <th></th>\n",
       "      <th>precision</th>\n",
       "      <th>recall</th>\n",
       "      <th>f1</th>\n",
       "    </tr>\n",
       "  </thead>\n",
       "  <tbody>\n",
       "    <tr>\n",
       "      <th>count</th>\n",
       "      <td>100.000000</td>\n",
       "      <td>100.000000</td>\n",
       "      <td>100.000000</td>\n",
       "    </tr>\n",
       "    <tr>\n",
       "      <th>mean</th>\n",
       "      <td>0.614607</td>\n",
       "      <td>0.620836</td>\n",
       "      <td>0.583194</td>\n",
       "    </tr>\n",
       "    <tr>\n",
       "      <th>std</th>\n",
       "      <td>0.127430</td>\n",
       "      <td>0.277294</td>\n",
       "      <td>0.194003</td>\n",
       "    </tr>\n",
       "    <tr>\n",
       "      <th>min</th>\n",
       "      <td>0.000000</td>\n",
       "      <td>0.000000</td>\n",
       "      <td>0.000000</td>\n",
       "    </tr>\n",
       "    <tr>\n",
       "      <th>25%</th>\n",
       "      <td>0.563590</td>\n",
       "      <td>0.381225</td>\n",
       "      <td>0.467645</td>\n",
       "    </tr>\n",
       "    <tr>\n",
       "      <th>50%</th>\n",
       "      <td>0.631579</td>\n",
       "      <td>0.687131</td>\n",
       "      <td>0.627845</td>\n",
       "    </tr>\n",
       "    <tr>\n",
       "      <th>75%</th>\n",
       "      <td>0.706196</td>\n",
       "      <td>0.862698</td>\n",
       "      <td>0.719450</td>\n",
       "    </tr>\n",
       "    <tr>\n",
       "      <th>max</th>\n",
       "      <td>0.818182</td>\n",
       "      <td>0.990654</td>\n",
       "      <td>0.849231</td>\n",
       "    </tr>\n",
       "  </tbody>\n",
       "</table>\n",
       "</div>"
      ],
      "text/plain": [
       "        precision      recall          f1\n",
       "count  100.000000  100.000000  100.000000\n",
       "mean     0.614607    0.620836    0.583194\n",
       "std      0.127430    0.277294    0.194003\n",
       "min      0.000000    0.000000    0.000000\n",
       "25%      0.563590    0.381225    0.467645\n",
       "50%      0.631579    0.687131    0.627845\n",
       "75%      0.706196    0.862698    0.719450\n",
       "max      0.818182    0.990654    0.849231"
      ]
     },
     "execution_count": 44,
     "metadata": {},
     "output_type": "execute_result"
    }
   ],
   "source": [
    "elastic_wo_poly_result.describe().drop(columns = [\"test_trial\"])"
   ]
  },
  {
   "cell_type": "code",
   "execution_count": 45,
   "metadata": {},
   "outputs": [
    {
     "data": {
      "text/html": [
       "<div>\n",
       "<style scoped>\n",
       "    .dataframe tbody tr th:only-of-type {\n",
       "        vertical-align: middle;\n",
       "    }\n",
       "\n",
       "    .dataframe tbody tr th {\n",
       "        vertical-align: top;\n",
       "    }\n",
       "\n",
       "    .dataframe thead th {\n",
       "        text-align: right;\n",
       "    }\n",
       "</style>\n",
       "<table border=\"1\" class=\"dataframe\">\n",
       "  <thead>\n",
       "    <tr style=\"text-align: right;\">\n",
       "      <th></th>\n",
       "      <th>precision</th>\n",
       "      <th>recall</th>\n",
       "      <th>f1</th>\n",
       "    </tr>\n",
       "  </thead>\n",
       "  <tbody>\n",
       "    <tr>\n",
       "      <th>count</th>\n",
       "      <td>100.000000</td>\n",
       "      <td>100.000000</td>\n",
       "      <td>100.000000</td>\n",
       "    </tr>\n",
       "    <tr>\n",
       "      <th>mean</th>\n",
       "      <td>0.627760</td>\n",
       "      <td>0.628140</td>\n",
       "      <td>0.593217</td>\n",
       "    </tr>\n",
       "    <tr>\n",
       "      <th>std</th>\n",
       "      <td>0.114258</td>\n",
       "      <td>0.267591</td>\n",
       "      <td>0.190194</td>\n",
       "    </tr>\n",
       "    <tr>\n",
       "      <th>min</th>\n",
       "      <td>0.333333</td>\n",
       "      <td>0.014085</td>\n",
       "      <td>0.027027</td>\n",
       "    </tr>\n",
       "    <tr>\n",
       "      <th>25%</th>\n",
       "      <td>0.571894</td>\n",
       "      <td>0.416064</td>\n",
       "      <td>0.493601</td>\n",
       "    </tr>\n",
       "    <tr>\n",
       "      <th>50%</th>\n",
       "      <td>0.641893</td>\n",
       "      <td>0.691882</td>\n",
       "      <td>0.624603</td>\n",
       "    </tr>\n",
       "    <tr>\n",
       "      <th>75%</th>\n",
       "      <td>0.709202</td>\n",
       "      <td>0.863731</td>\n",
       "      <td>0.756564</td>\n",
       "    </tr>\n",
       "    <tr>\n",
       "      <th>max</th>\n",
       "      <td>0.833333</td>\n",
       "      <td>0.991870</td>\n",
       "      <td>0.860000</td>\n",
       "    </tr>\n",
       "  </tbody>\n",
       "</table>\n",
       "</div>"
      ],
      "text/plain": [
       "        precision      recall          f1\n",
       "count  100.000000  100.000000  100.000000\n",
       "mean     0.627760    0.628140    0.593217\n",
       "std      0.114258    0.267591    0.190194\n",
       "min      0.333333    0.014085    0.027027\n",
       "25%      0.571894    0.416064    0.493601\n",
       "50%      0.641893    0.691882    0.624603\n",
       "75%      0.709202    0.863731    0.756564\n",
       "max      0.833333    0.991870    0.860000"
      ]
     },
     "execution_count": 45,
     "metadata": {},
     "output_type": "execute_result"
    }
   ],
   "source": [
    "ridge_wo_poly_result.describe().drop(columns = [\"test_trial\"])"
   ]
  },
  {
   "cell_type": "code",
   "execution_count": 46,
   "metadata": {},
   "outputs": [
    {
     "data": {
      "text/html": [
       "<div>\n",
       "<style scoped>\n",
       "    .dataframe tbody tr th:only-of-type {\n",
       "        vertical-align: middle;\n",
       "    }\n",
       "\n",
       "    .dataframe tbody tr th {\n",
       "        vertical-align: top;\n",
       "    }\n",
       "\n",
       "    .dataframe thead th {\n",
       "        text-align: right;\n",
       "    }\n",
       "</style>\n",
       "<table border=\"1\" class=\"dataframe\">\n",
       "  <thead>\n",
       "    <tr style=\"text-align: right;\">\n",
       "      <th></th>\n",
       "      <th>precision</th>\n",
       "      <th>recall</th>\n",
       "      <th>f1</th>\n",
       "    </tr>\n",
       "  </thead>\n",
       "  <tbody>\n",
       "    <tr>\n",
       "      <th>count</th>\n",
       "      <td>100.000000</td>\n",
       "      <td>100.000000</td>\n",
       "      <td>100.000000</td>\n",
       "    </tr>\n",
       "    <tr>\n",
       "      <th>mean</th>\n",
       "      <td>0.615665</td>\n",
       "      <td>0.664768</td>\n",
       "      <td>0.597795</td>\n",
       "    </tr>\n",
       "    <tr>\n",
       "      <th>std</th>\n",
       "      <td>0.140617</td>\n",
       "      <td>0.288974</td>\n",
       "      <td>0.189151</td>\n",
       "    </tr>\n",
       "    <tr>\n",
       "      <th>min</th>\n",
       "      <td>0.000000</td>\n",
       "      <td>0.000000</td>\n",
       "      <td>0.000000</td>\n",
       "    </tr>\n",
       "    <tr>\n",
       "      <th>25%</th>\n",
       "      <td>0.535866</td>\n",
       "      <td>0.430242</td>\n",
       "      <td>0.521350</td>\n",
       "    </tr>\n",
       "    <tr>\n",
       "      <th>50%</th>\n",
       "      <td>0.618615</td>\n",
       "      <td>0.756650</td>\n",
       "      <td>0.630741</td>\n",
       "    </tr>\n",
       "    <tr>\n",
       "      <th>75%</th>\n",
       "      <td>0.704893</td>\n",
       "      <td>0.916274</td>\n",
       "      <td>0.741657</td>\n",
       "    </tr>\n",
       "    <tr>\n",
       "      <th>max</th>\n",
       "      <td>1.000000</td>\n",
       "      <td>1.000000</td>\n",
       "      <td>0.852564</td>\n",
       "    </tr>\n",
       "  </tbody>\n",
       "</table>\n",
       "</div>"
      ],
      "text/plain": [
       "        precision      recall          f1\n",
       "count  100.000000  100.000000  100.000000\n",
       "mean     0.615665    0.664768    0.597795\n",
       "std      0.140617    0.288974    0.189151\n",
       "min      0.000000    0.000000    0.000000\n",
       "25%      0.535866    0.430242    0.521350\n",
       "50%      0.618615    0.756650    0.630741\n",
       "75%      0.704893    0.916274    0.741657\n",
       "max      1.000000    1.000000    0.852564"
      ]
     },
     "execution_count": 46,
     "metadata": {},
     "output_type": "execute_result"
    }
   ],
   "source": [
    "ridge_w_poly_result.describe().drop(columns = [\"test_trial\"])"
   ]
  },
  {
   "cell_type": "code",
   "execution_count": 47,
   "metadata": {},
   "outputs": [
    {
     "data": {
      "text/html": [
       "<div>\n",
       "<style scoped>\n",
       "    .dataframe tbody tr th:only-of-type {\n",
       "        vertical-align: middle;\n",
       "    }\n",
       "\n",
       "    .dataframe tbody tr th {\n",
       "        vertical-align: top;\n",
       "    }\n",
       "\n",
       "    .dataframe thead th {\n",
       "        text-align: right;\n",
       "    }\n",
       "</style>\n",
       "<table border=\"1\" class=\"dataframe\">\n",
       "  <thead>\n",
       "    <tr style=\"text-align: right;\">\n",
       "      <th></th>\n",
       "      <th>precision</th>\n",
       "      <th>recall</th>\n",
       "      <th>f1</th>\n",
       "    </tr>\n",
       "  </thead>\n",
       "  <tbody>\n",
       "    <tr>\n",
       "      <th>count</th>\n",
       "      <td>100.000000</td>\n",
       "      <td>100.000000</td>\n",
       "      <td>100.000000</td>\n",
       "    </tr>\n",
       "    <tr>\n",
       "      <th>mean</th>\n",
       "      <td>0.645330</td>\n",
       "      <td>0.610424</td>\n",
       "      <td>0.558490</td>\n",
       "    </tr>\n",
       "    <tr>\n",
       "      <th>std</th>\n",
       "      <td>0.138658</td>\n",
       "      <td>0.330413</td>\n",
       "      <td>0.220915</td>\n",
       "    </tr>\n",
       "    <tr>\n",
       "      <th>min</th>\n",
       "      <td>0.000000</td>\n",
       "      <td>0.000000</td>\n",
       "      <td>0.000000</td>\n",
       "    </tr>\n",
       "    <tr>\n",
       "      <th>25%</th>\n",
       "      <td>0.562158</td>\n",
       "      <td>0.293416</td>\n",
       "      <td>0.420156</td>\n",
       "    </tr>\n",
       "    <tr>\n",
       "      <th>50%</th>\n",
       "      <td>0.663176</td>\n",
       "      <td>0.708401</td>\n",
       "      <td>0.631054</td>\n",
       "    </tr>\n",
       "    <tr>\n",
       "      <th>75%</th>\n",
       "      <td>0.750619</td>\n",
       "      <td>0.916691</td>\n",
       "      <td>0.733838</td>\n",
       "    </tr>\n",
       "    <tr>\n",
       "      <th>max</th>\n",
       "      <td>1.000000</td>\n",
       "      <td>1.000000</td>\n",
       "      <td>0.858974</td>\n",
       "    </tr>\n",
       "  </tbody>\n",
       "</table>\n",
       "</div>"
      ],
      "text/plain": [
       "        precision      recall          f1\n",
       "count  100.000000  100.000000  100.000000\n",
       "mean     0.645330    0.610424    0.558490\n",
       "std      0.138658    0.330413    0.220915\n",
       "min      0.000000    0.000000    0.000000\n",
       "25%      0.562158    0.293416    0.420156\n",
       "50%      0.663176    0.708401    0.631054\n",
       "75%      0.750619    0.916691    0.733838\n",
       "max      1.000000    1.000000    0.858974"
      ]
     },
     "execution_count": 47,
     "metadata": {},
     "output_type": "execute_result"
    }
   ],
   "source": [
    "elastic_w_poly_result.describe().drop(columns = [\"test_trial\"])"
   ]
  },
  {
   "cell_type": "markdown",
   "metadata": {},
   "source": [
    "# Result Visualizations"
   ]
  },
  {
   "cell_type": "markdown",
   "metadata": {},
   "source": [
    "### Precision distributions are mostly normal, and precision score doesn't show evidence of serial correlation."
   ]
  },
  {
   "cell_type": "code",
   "execution_count": 60,
   "metadata": {},
   "outputs": [
    {
     "name": "stderr",
     "output_type": "stream",
     "text": [
      "C:\\Users\\steve\\anaconda3\\lib\\site-packages\\seaborn\\distributions.py:2619: FutureWarning: `distplot` is a deprecated function and will be removed in a future version. Please adapt your code to use either `displot` (a figure-level function with similar flexibility) or `histplot` (an axes-level function for histograms).\n",
      "  warnings.warn(msg, FutureWarning)\n"
     ]
    },
    {
     "data": {
      "text/plain": [
       "<AxesSubplot:title={'center':'Scatter'}, xlabel='test_trial', ylabel='precision'>"
      ]
     },
     "execution_count": 60,
     "metadata": {},
     "output_type": "execute_result"
    },
    {
     "data": {
      "image/png": "[encoded data removed]",
      "text/plain": [
       "<Figure size 432x288 with 2 Axes>"
      ]
     },
     "metadata": {
      "needs_background": "light"
     },
     "output_type": "display_data"
    }
   ],
   "source": [
    "fig, axes = plt.subplots(1, 2)\n",
    "fig.suptitle(\"Precision Distrubution and Scatter (linear_wo_poly)\")\n",
    "axes[0].set_title(\"Distribution\")\n",
    "axes[1].set_title(\"Scatter\")\n",
    "sns.distplot(linear_wo_poly_result[\"precision\"], ax = axes[0])\n",
    "sns.scatterplot(x = \"test_trial\", y = \"precision\", data=linear_wo_poly_result, ax = axes[1])"
   ]
  },
  {
   "cell_type": "code",
   "execution_count": 61,
   "metadata": {},
   "outputs": [
    {
     "name": "stderr",
     "output_type": "stream",
     "text": [
      "C:\\Users\\steve\\anaconda3\\lib\\site-packages\\seaborn\\distributions.py:2619: FutureWarning: `distplot` is a deprecated function and will be removed in a future version. Please adapt your code to use either `displot` (a figure-level function with similar flexibility) or `histplot` (an axes-level function for histograms).\n",
      "  warnings.warn(msg, FutureWarning)\n"
     ]
    },
    {
     "data": {
      "text/plain": [
       "<AxesSubplot:title={'center':'Scatter'}, xlabel='test_trial', ylabel='precision'>"
      ]
     },
     "execution_count": 61,
     "metadata": {},
     "output_type": "execute_result"
    },
    {
     "data": {
      "image/png": "[encoded data removed]",
      "text/plain": [
       "<Figure size 432x288 with 2 Axes>"
      ]
     },
     "metadata": {
      "needs_background": "light"
     },
     "output_type": "display_data"
    }
   ],
   "source": [
    "fig, axes = plt.subplots(1, 2)\n",
    "fig.suptitle(\"Precision Distrubution and Scatter (lasso_wo_poly)\")\n",
    "axes[0].set_title(\"Distribution\")\n",
    "axes[1].set_title(\"Scatter\")\n",
    "sns.distplot(lasso_wo_poly_result[\"precision\"], ax = axes[0])\n",
    "sns.scatterplot(x = \"test_trial\", y = \"precision\", data=lasso_wo_poly_result, ax = axes[1])"
   ]
  },
  {
   "cell_type": "code",
   "execution_count": 62,
   "metadata": {},
   "outputs": [
    {
     "name": "stderr",
     "output_type": "stream",
     "text": [
      "C:\\Users\\steve\\anaconda3\\lib\\site-packages\\seaborn\\distributions.py:2619: FutureWarning: `distplot` is a deprecated function and will be removed in a future version. Please adapt your code to use either `displot` (a figure-level function with similar flexibility) or `histplot` (an axes-level function for histograms).\n",
      "  warnings.warn(msg, FutureWarning)\n"
     ]
    },
    {
     "data": {
      "text/plain": [
       "<AxesSubplot:title={'center':'Scatter'}, xlabel='test_trial', ylabel='precision'>"
      ]
     },
     "execution_count": 62,
     "metadata": {},
     "output_type": "execute_result"
    },
    {
     "data": {
      "image/png": "[encoded data removed]",
      "text/plain": [
       "<Figure size 432x288 with 2 Axes>"
      ]
     },
     "metadata": {
      "needs_background": "light"
     },
     "output_type": "display_data"
    }
   ],
   "source": [
    "fig, axes = plt.subplots(1, 2)\n",
    "fig.suptitle(\"Precision Distrubution and Scatter (Elastic_Net_wo_poly)\")\n",
    "axes[0].set_title(\"Distribution\")\n",
    "axes[1].set_title(\"Scatter\")\n",
    "sns.distplot(elastic_wo_poly_result[\"precision\"], ax = axes[0])\n",
    "sns.scatterplot(x = \"test_trial\", y = \"precision\", data=elastic_wo_poly_result, ax = axes[1])"
   ]
  },
  {
   "cell_type": "code",
   "execution_count": 63,
   "metadata": {},
   "outputs": [
    {
     "name": "stderr",
     "output_type": "stream",
     "text": [
      "C:\\Users\\steve\\anaconda3\\lib\\site-packages\\seaborn\\distributions.py:2619: FutureWarning: `distplot` is a deprecated function and will be removed in a future version. Please adapt your code to use either `displot` (a figure-level function with similar flexibility) or `histplot` (an axes-level function for histograms).\n",
      "  warnings.warn(msg, FutureWarning)\n"
     ]
    },
    {
     "data": {
      "text/plain": [
       "<AxesSubplot:title={'center':'Scatter'}, xlabel='test_trial', ylabel='precision'>"
      ]
     },
     "execution_count": 63,
     "metadata": {},
     "output_type": "execute_result"
    },
    {
     "data": {
      "image/png": "[encoded data removed]",
      "text/plain": [
       "<Figure size 432x288 with 2 Axes>"
      ]
     },
     "metadata": {
      "needs_background": "light"
     },
     "output_type": "display_data"
    }
   ],
   "source": [
    "fig, axes = plt.subplots(1, 2)\n",
    "fig.suptitle(\"Precision Distrubution and Scatter (ridge_wo_poly)\")\n",
    "axes[0].set_title(\"Distribution\")\n",
    "axes[1].set_title(\"Scatter\")\n",
    "sns.distplot(ridge_wo_poly_result[\"precision\"], ax = axes[0])\n",
    "sns.scatterplot(x = \"test_trial\", y = \"precision\", data=ridge_wo_poly_result, ax = axes[1])"
   ]
  },
  {
   "cell_type": "code",
   "execution_count": 64,
   "metadata": {},
   "outputs": [
    {
     "name": "stderr",
     "output_type": "stream",
     "text": [
      "C:\\Users\\steve\\anaconda3\\lib\\site-packages\\seaborn\\distributions.py:2619: FutureWarning: `distplot` is a deprecated function and will be removed in a future version. Please adapt your code to use either `displot` (a figure-level function with similar flexibility) or `histplot` (an axes-level function for histograms).\n",
      "  warnings.warn(msg, FutureWarning)\n"
     ]
    },
    {
     "data": {
      "text/plain": [
       "<AxesSubplot:title={'center':'Scatter'}, xlabel='test_trial', ylabel='precision'>"
      ]
     },
     "execution_count": 64,
     "metadata": {},
     "output_type": "execute_result"
    },
    {
     "data": {
      "image/png": "[encoded data removed]",
      "text/plain": [
       "<Figure size 432x288 with 2 Axes>"
      ]
     },
     "metadata": {
      "needs_background": "light"
     },
     "output_type": "display_data"
    }
   ],
   "source": [
    "fig, axes = plt.subplots(1, 2)\n",
    "fig.suptitle(\"Precision Distrubution and Scatter (ridge_with_poly)\")\n",
    "axes[0].set_title(\"Distribution\")\n",
    "axes[1].set_title(\"Scatter\")\n",
    "sns.distplot(ridge_w_poly_result[\"precision\"], ax = axes[0])\n",
    "sns.scatterplot(x = \"test_trial\", y = \"precision\", data=ridge_w_poly_result, ax = axes[1])"
   ]
  },
  {
   "cell_type": "code",
   "execution_count": 65,
   "metadata": {},
   "outputs": [
    {
     "name": "stderr",
     "output_type": "stream",
     "text": [
      "C:\\Users\\steve\\anaconda3\\lib\\site-packages\\seaborn\\distributions.py:2619: FutureWarning: `distplot` is a deprecated function and will be removed in a future version. Please adapt your code to use either `displot` (a figure-level function with similar flexibility) or `histplot` (an axes-level function for histograms).\n",
      "  warnings.warn(msg, FutureWarning)\n"
     ]
    },
    {
     "data": {
      "text/plain": [
       "<AxesSubplot:title={'center':'Scatter'}, xlabel='test_trial', ylabel='precision'>"
      ]
     },
     "execution_count": 65,
     "metadata": {},
     "output_type": "execute_result"
    },
    {
     "data": {
      "image/png": "[encoded data removed]",
      "text/plain": [
       "<Figure size 432x288 with 2 Axes>"
      ]
     },
     "metadata": {
      "needs_background": "light"
     },
     "output_type": "display_data"
    }
   ],
   "source": [
    "fig, axes = plt.subplots(1, 2)\n",
    "fig.suptitle(\"Precision Distrubution and Scatter (Elastic_Net_with_poly)\")\n",
    "axes[0].set_title(\"Distribution\")\n",
    "axes[1].set_title(\"Scatter\")\n",
    "sns.distplot(elastic_w_poly_result[\"precision\"], ax = axes[0])\n",
    "sns.scatterplot(x = \"test_trial\", y = \"precision\", data=elastic_w_poly_result, ax = axes[1])"
   ]
  }
 ],
 "metadata": {
  "kernelspec": {
   "display_name": "Python 3",
   "language": "python",
   "name": "python3"
  },
  "language_info": {
   "codemirror_mode": {
    "name": "ipython",
    "version": 3
   },
   "file_extension": ".py",
   "mimetype": "text/x-python",
   "name": "python",
   "nbconvert_exporter": "python",
   "pygments_lexer": "ipython3",
   "version": "3.8.8"
  }
 },
 "nbformat": 4,
 "nbformat_minor": 4
}
